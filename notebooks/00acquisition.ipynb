{
 "cells": [
  {
   "cell_type": "code",
   "execution_count": 1,
   "metadata": {},
   "outputs": [],
   "source": [
    "%load_ext lab_black"
   ]
  },
  {
   "cell_type": "code",
   "execution_count": 2,
   "metadata": {},
   "outputs": [],
   "source": [
    "%load_ext autoreload\n",
    "%autoreload 2"
   ]
  },
  {
   "cell_type": "code",
   "execution_count": 3,
   "metadata": {
    "colab": {
     "base_uri": "https://localhost:8080/"
    },
    "executionInfo": {
     "elapsed": 4227,
     "status": "ok",
     "timestamp": 1615322247275,
     "user": {
      "displayName": "ERNESTO GREGORI MARTINEZ",
      "photoUrl": "",
      "userId": "05430470184091027939"
     },
     "user_tz": -60
    },
    "id": "statistical-mainland",
    "outputId": "5256dc47-25db-45cf-c80e-44e6d69e751e"
   },
   "outputs": [],
   "source": [
    "import geopandas as gpd\n",
    "import lxml\n",
    "import missingno as msno\n",
    "import numpy as np\n",
    "import pandas as pd\n",
    "from shapely.geometry import Point\n",
    "\n",
    "from urbana.constants import DIR_REPO, DIR_DATA\n",
    "from urbana.data.datasets import merge_datasets\n",
    "from urbana.data.geo import harversine_distance_btw_geoseries_point"
   ]
  },
  {
   "cell_type": "code",
   "execution_count": 4,
   "metadata": {
    "tags": [
     "parameters"
    ]
   },
   "outputs": [],
   "source": [
    "# papermill parameters cell\n",
    "# https://papermill.readthedocs.io/en/latest/usage-parameterize.html\n",
    "\n",
    "YEAR = 2017\n",
    "MONTH = 7\n",
    "\n",
    "SAVE_DATA = True\n",
    "OUTPUT_WARNINGS = False"
   ]
  },
  {
   "cell_type": "code",
   "execution_count": 5,
   "metadata": {},
   "outputs": [],
   "source": [
    "if not OUTPUT_WARNINGS:\n",
    "    import warnings\n",
    "\n",
    "    warnings.filterwarnings(\"ignore\")"
   ]
  },
  {
   "cell_type": "markdown",
   "metadata": {
    "id": "vGbqOR2S1K3U"
   },
   "source": [
    "# Open Data\n",
    "\n"
   ]
  },
  {
   "cell_type": "markdown",
   "metadata": {
    "id": "QeSNyhPM1bGE"
   },
   "source": [
    "## City maps"
   ]
  },
  {
   "cell_type": "markdown",
   "metadata": {
    "id": "yKEG8Ai5871c"
   },
   "source": [
    "We will take a list of the neighbourhoods and districts with information to plot them from:\n",
    "\n",
    "https://opendata-ajuntament.barcelona.cat/data/en/dataset/20170706-districtes-barris"
   ]
  },
  {
   "cell_type": "code",
   "execution_count": 6,
   "metadata": {},
   "outputs": [],
   "source": [
    "geo_info = gpd.read_file(DIR_DATA / \"raw/0301100100_UNITATS_ADM_POLIGONS.json\")\n",
    "\n",
    "sect = geo_info[geo_info[\"SCONJ_DESC\"] == \"Secció censal\"]\n",
    "\n",
    "sect = sect[[\"DISTRICTE\", \"BARRI\", \"SEC_CENS\", \"geometry\"]]\n",
    "\n",
    "# Change the coordinates to latitude and longitude\n",
    "sect[\"geometry\"] = sect[\"geometry\"].to_crs(\"EPSG:4326\")\n",
    "\n",
    "sect.rename(\n",
    "    {\"DISTRICTE\": \"N_district\", \"BARRI\": \"N_neighbourhood\", \"SEC_CENS\": \"N_section\"},\n",
    "    axis=1,\n",
    "    inplace=True,\n",
    ")\n",
    "\n",
    "sect[\"Tag\"] = sect[\"N_district\"] + \"_\" + sect[\"N_section\"]\n",
    "sect.sort_values(by=[\"Tag\"], inplace=True)\n",
    "sect.set_index(\"Tag\", inplace=True)"
   ]
  },
  {
   "cell_type": "markdown",
   "metadata": {
    "id": "lJSO1B2RKp6S"
   },
   "source": [
    "We save the information required to plot the maps (`sect_geo`) in a JSON file. From now on, we will store the rest of the information in `sect` so it can be stores in a csv file that is easier to read for humans."
   ]
  },
  {
   "cell_type": "markdown",
   "metadata": {},
   "source": [
    "## Distance to city center"
   ]
  },
  {
   "cell_type": "markdown",
   "metadata": {},
   "source": [
    "We assume the city center to be \"Plaza Catalunya\" (2.1700471, 41.3870154) and we will compute the distance of the centroid of each section to it.\n",
    "\n",
    "To do so, we apply the *Haversine distance* between \"Plaza Catalunya\" and each centroid. Units chosen are km."
   ]
  },
  {
   "cell_type": "code",
   "execution_count": 7,
   "metadata": {},
   "outputs": [],
   "source": [
    "CITY_CENTER_COORDINATES = (2.1700471, 41.3870154)"
   ]
  },
  {
   "cell_type": "code",
   "execution_count": 8,
   "metadata": {},
   "outputs": [],
   "source": [
    "plaza_catalunya = Point(*CITY_CENTER_COORDINATES)\n",
    "d_haversine = harversine_distance_btw_geoseries_point(sect[\"geometry\"].centroid, \n",
    "                                        plaza_catalunya\n",
    "                                        ).to_frame(\"Distance_Center\")\n",
    "sect = merge_datasets(sect, d_haversine)"
   ]
  },
  {
   "cell_type": "markdown",
   "metadata": {},
   "source": [
    "## POI"
   ]
  },
  {
   "cell_type": "markdown",
   "metadata": {},
   "source": [
    "https://opendata-ajuntament.barcelona.cat/data/en/dataset/cens-activitats-comercials"
   ]
  },
  {
   "cell_type": "code",
   "execution_count": 9,
   "metadata": {},
   "outputs": [],
   "source": [
    "econ = pd.read_csv(DIR_DATA / \"raw/2019_censcomercialbcn_detall.csv\")\n",
    "\n",
    "econ = econ[\n",
    "    [\n",
    "        \"Codi_Sector_Activitat\",\n",
    "        \"Codi_Grup_Activitat\",\n",
    "        \"Codi_Activitat_2019\",\n",
    "        \"Nom_Grup_Activitat\",\n",
    "        \"Codi_Districte\",\n",
    "        \"Seccio_Censal\",\n",
    "    ]\n",
    "]\n",
    "econ.rename(\n",
    "    {\n",
    "        \"Codi_Sector_Activitat\": \"Code_sector\",\n",
    "        \"Codi_Grup_Activitat\": \"Code_group\",\n",
    "        \"Nom_Grup_Activitat\": \"Name_Group\",\n",
    "        \"Codi_Activitat_2019\": \"Code_activity\",\n",
    "        \"Codi_Districte\": \"N_district\",\n",
    "        \"Seccio_Censal\": \"N_section\",\n",
    "    },\n",
    "    axis=1,\n",
    "    inplace=True,\n",
    ")\n",
    "\n",
    "# Remove incorrect information\n",
    "econ = econ[econ[\"Code_group\"] != 0]\n",
    "econ.dropna(subset=[\"N_section\"], axis=0, inplace=True)\n",
    "econ[\"N_section\"] = econ[\"N_section\"].astype(\"int\")\n",
    "\n",
    "econ[\"Tag\"] = (\n",
    "    econ[\"N_district\"].map(\"{:02d}\".format)\n",
    "    + \"_\"\n",
    "    + econ[\"N_section\"].map(\"{:03d}\".format)\n",
    ")\n",
    "\n",
    "econ.drop([\"N_district\", \"N_section\"], axis=1, inplace=True)\n",
    "\n",
    "# Group by codes and count\n",
    "econ = (\n",
    "    econ.groupby([\"Tag\", \"Code_sector\", \"Code_group\", \"Code_activity\", \"Name_Group\"])\n",
    "    .size()\n",
    "    .to_frame(\"Count\")\n",
    "    .reset_index()\n",
    ")"
   ]
  },
  {
   "cell_type": "code",
   "execution_count": 10,
   "metadata": {},
   "outputs": [],
   "source": [
    "def sum_Points(acts):\n",
    "    result = pd.DataFrame(index=sect.index)\n",
    "    empty = pd.DataFrame(index=sect.index)\n",
    "    for i in acts:\n",
    "        empty[str(i)] = econ[econ[\"Code_activity\"] == i].set_index(\"Tag\")[\"Count\"]\n",
    "    empty.fillna(0, inplace=True)\n",
    "    result[\"myResult\"] = empty.sum(axis=1)\n",
    "    return result[\"myResult\"]"
   ]
  },
  {
   "cell_type": "code",
   "execution_count": 11,
   "metadata": {},
   "outputs": [],
   "source": [
    "econ_list = pd.DataFrame(index=sect.index)\n",
    "econ_group = (\n",
    "    econ.groupby([\"Tag\", \"Name_Group\"])[\"Count\"]\n",
    "    .agg(\"sum\")\n",
    "    .to_frame(\"Count\")\n",
    "    .reset_index()\n",
    ")\n",
    "\n",
    "# LIST OF CATEGORIES DEFINED\n",
    "category_names = {\n",
    "    \"POI_Daily_Food\": \"Quotidià alimentari\",\n",
    "    \"POI_Daily_Others\": \"Quotidià no alimentari\",\n",
    "    \"POI_House_Equipment\": \"Parament de la llar\",\n",
    "    \"POI_Clothing\":\"Equipament personal\",\n",
    "    \"POI_Culture\": \"Oci i cultura\",\n",
    "    \"POI_Vehicles\": \"Automoció\",\n",
    "    \"POI_State_Agents\": \"Activitats immobiliàries\",\n",
    "    \"POI_Education\": \"Ensenyament\",\n",
    "    \"POI_Finances\": \"Finances i assegurances\",\n",
    "    \"POI_Restaurants_Hotels\": \"Restaurants, bars i hotels (Inclòs hostals, pensions i fondes)\",\n",
    "    \"POI_Health\": \"Sanitat i assistència\",\n",
    "}\n",
    "\n",
    "# rename the categories according to the dictionary above\n",
    "for k,v in category_names.items():\n",
    "    econ_list[k] = (\n",
    "    econ_group[econ_group[\"Name_Group\"] == v]\n",
    "    .drop(\"Name_Group\", axis=1)\n",
    "    .set_index(\"Tag\")\n",
    ")\n",
    "\n",
    "econ_list[\"POI_Souvenirs_Thrift_Store\"] = sum_Points([7004000, 7004010, 7004020])\n",
    "econ_list[\"POI_Car_Parks\"] = sum_Points([1600000])\n",
    "econ_list[\"POI_Esthetics\"] = sum_Points([1600600, 1600700, 1600800])\n",
    "econ_list[\"POI_Sports\"] = sum_Points([1700300, 1700310, 1700320])\n",
    "econ_list[\"POI_Religion\"] = sum_Points([1700400])\n",
    "econ_list[\"POI_Administration\"] = sum_Points([1700100])\n",
    "\n",
    "\n",
    "econ_list.fillna(0, inplace=True)\n",
    "econ_list = econ_list.astype(\"int\")\n",
    "\n",
    "# Merge the data\n",
    "sect = merge_datasets(sect, econ_list)"
   ]
  },
  {
   "cell_type": "markdown",
   "metadata": {},
   "source": [
    "# Inside Airbnb"
   ]
  },
  {
   "cell_type": "code",
   "execution_count": 12,
   "metadata": {},
   "outputs": [],
   "source": [
    "# Dates in which the files were uploaded (so far)\n",
    "airbnb_dates = [\n",
    "    \"2015-04-30\",\n",
    "    \"2015-07-17\",\n",
    "    \"2015-09-04\",\n",
    "    \"2015-10-02\",\n",
    "    \"2016-01-03\",\n",
    "    \"2016-11-07\",\n",
    "    \"2016-12-08\",\n",
    "    \"2017-01-04\",\n",
    "    \"2017-02-09\",\n",
    "    \"2017-03-06\",\n",
    "    \"2017-04-08\",\n",
    "    \"2017-05-07\",\n",
    "    \"2017-06-05\",\n",
    "    \"2017-07-06\",\n",
    "    \"2017-08-06\",\n",
    "    \"2017-09-12\",\n",
    "    \"2017-10-07\",\n",
    "    \"2017-11-13\",\n",
    "    \"2017-12-09\",\n",
    "    \"2018-01-17\",\n",
    "    \"2018-02-07\",\n",
    "    \"2018-04-12\",\n",
    "    \"2018-05-14\",\n",
    "    \"2018-06-09\",\n",
    "    \"2018-07-10\",\n",
    "    \"2018-08-14\",\n",
    "    \"2018-09-11\",\n",
    "    \"2018-10-10\",\n",
    "    \"2018-11-07\",\n",
    "    \"2018-12-10\",\n",
    "    \"2019-01-14\",\n",
    "    \"2019-02-06\",\n",
    "    \"2019-03-08\",\n",
    "    \"2019-04-10\",\n",
    "    \"2019-05-14\",\n",
    "    \"2019-06-07\",\n",
    "    \"2019-07-10\",\n",
    "    \"2019-08-12\",\n",
    "    \"2019-09-17\",\n",
    "    \"2019-10-16\",\n",
    "    \"2019-11-09\",\n",
    "    \"2019-12-10\",\n",
    "    \"2020-01-10\",\n",
    "    \"2020-02-16\",\n",
    "    \"2020-03-16\",\n",
    "    \"2020-04-16\",\n",
    "    \"2020-05-11\",\n",
    "    \"2020-06-13\",\n",
    "    \"2020-07-17\",\n",
    "    \"2020-08-24\",\n",
    "    \"2020-09-12\",\n",
    "    \"2020-10-12\",\n",
    "    \"2020-11-06\",\n",
    "    \"2020-12-16\",\n",
    "    \"2021-01-12\",\n",
    "    \"2021-02-09\",\n",
    "]\n",
    "\n",
    "# Choose the data to download\n",
    "airbnb_chosen = [\n",
    "    i for i in airbnb_dates if i.startswith(str(YEAR) + \"-\" + \"{:02d}\".format(MONTH))\n",
    "]\n",
    "airbnb_chosen = pd.to_datetime(airbnb_chosen[0], format=\"%Y-%m-%d\", errors=\"ignore\")"
   ]
  },
  {
   "cell_type": "code",
   "execution_count": 33,
   "metadata": {},
   "outputs": [
    {
     "output_type": "error",
     "ename": "HTTPError",
     "evalue": "HTTP Error 404: Not Found",
     "traceback": [
      "\u001b[0;31m---------------------------------------------------------------------------\u001b[0m",
      "\u001b[0;31mHTTPError\u001b[0m                                 Traceback (most recent call last)",
      "\u001b[0;32m<ipython-input-33-b030acd2c637>\u001b[0m in \u001b[0;36m<module>\u001b[0;34m\u001b[0m\n\u001b[1;32m      5\u001b[0m \u001b[0;34m\u001b[0m\u001b[0m\n\u001b[1;32m      6\u001b[0m \u001b[0;31m###########################################################\u001b[0m\u001b[0;34m\u001b[0m\u001b[0;34m\u001b[0m\u001b[0;34m\u001b[0m\u001b[0m\n\u001b[0;32m----> 7\u001b[0;31m \u001b[0mdf\u001b[0m \u001b[0;34m=\u001b[0m \u001b[0mget_insideairbnb_data\u001b[0m\u001b[0;34m(\u001b[0m\u001b[0mairbnb_chosen\u001b[0m\u001b[0;34m.\u001b[0m\u001b[0myear\u001b[0m\u001b[0;34m,\u001b[0m \u001b[0mairbnb_chosen\u001b[0m\u001b[0;34m.\u001b[0m\u001b[0mmonth\u001b[0m\u001b[0;34m,\u001b[0m \u001b[0mairbnb_chosen\u001b[0m\u001b[0;34m.\u001b[0m\u001b[0mday\u001b[0m\u001b[0;34m)\u001b[0m\u001b[0;34m\u001b[0m\u001b[0;34m\u001b[0m\u001b[0m\n\u001b[0m\u001b[1;32m      8\u001b[0m \u001b[0mdf\u001b[0m \u001b[0;34m=\u001b[0m \u001b[0mpd\u001b[0m\u001b[0;34m.\u001b[0m\u001b[0mread_csv\u001b[0m\u001b[0;34m(\u001b[0m\u001b[0mairbnb_url\u001b[0m\u001b[0;34m)\u001b[0m\u001b[0;34m\u001b[0m\u001b[0;34m\u001b[0m\u001b[0m\n\u001b[1;32m      9\u001b[0m \u001b[0;34m\u001b[0m\u001b[0m\n",
      "\u001b[0;32m/media/M2/preyes/projects/urbana/src/urbana/data/datasets.py\u001b[0m in \u001b[0;36mget_insideairbnb_data\u001b[0;34m(year, month, day)\u001b[0m\n\u001b[1;32m     41\u001b[0m         \u001b[0;34m\"/data/listings.csv.gz\"\u001b[0m\u001b[0;34m\u001b[0m\u001b[0;34m\u001b[0m\u001b[0m\n\u001b[1;32m     42\u001b[0m     )\n\u001b[0;32m---> 43\u001b[0;31m     \u001b[0;32mreturn\u001b[0m \u001b[0mpd\u001b[0m\u001b[0;34m.\u001b[0m\u001b[0mread_csv\u001b[0m\u001b[0;34m(\u001b[0m\u001b[0mairbnb_url\u001b[0m\u001b[0;34m)\u001b[0m\u001b[0;34m\u001b[0m\u001b[0;34m\u001b[0m\u001b[0m\n\u001b[0m",
      "\u001b[0;32m~/.pyenv/versions/miniconda3-latest/envs/urbana/lib/python3.9/site-packages/pandas/io/parsers.py\u001b[0m in \u001b[0;36mread_csv\u001b[0;34m(filepath_or_buffer, sep, delimiter, header, names, index_col, usecols, squeeze, prefix, mangle_dupe_cols, dtype, engine, converters, true_values, false_values, skipinitialspace, skiprows, skipfooter, nrows, na_values, keep_default_na, na_filter, verbose, skip_blank_lines, parse_dates, infer_datetime_format, keep_date_col, date_parser, dayfirst, cache_dates, iterator, chunksize, compression, thousands, decimal, lineterminator, quotechar, quoting, doublequote, escapechar, comment, encoding, dialect, error_bad_lines, warn_bad_lines, delim_whitespace, low_memory, memory_map, float_precision, storage_options)\u001b[0m\n\u001b[1;32m    608\u001b[0m     \u001b[0mkwds\u001b[0m\u001b[0;34m.\u001b[0m\u001b[0mupdate\u001b[0m\u001b[0;34m(\u001b[0m\u001b[0mkwds_defaults\u001b[0m\u001b[0;34m)\u001b[0m\u001b[0;34m\u001b[0m\u001b[0;34m\u001b[0m\u001b[0m\n\u001b[1;32m    609\u001b[0m \u001b[0;34m\u001b[0m\u001b[0m\n\u001b[0;32m--> 610\u001b[0;31m     \u001b[0;32mreturn\u001b[0m \u001b[0m_read\u001b[0m\u001b[0;34m(\u001b[0m\u001b[0mfilepath_or_buffer\u001b[0m\u001b[0;34m,\u001b[0m \u001b[0mkwds\u001b[0m\u001b[0;34m)\u001b[0m\u001b[0;34m\u001b[0m\u001b[0;34m\u001b[0m\u001b[0m\n\u001b[0m\u001b[1;32m    611\u001b[0m \u001b[0;34m\u001b[0m\u001b[0m\n\u001b[1;32m    612\u001b[0m \u001b[0;34m\u001b[0m\u001b[0m\n",
      "\u001b[0;32m~/.pyenv/versions/miniconda3-latest/envs/urbana/lib/python3.9/site-packages/pandas/io/parsers.py\u001b[0m in \u001b[0;36m_read\u001b[0;34m(filepath_or_buffer, kwds)\u001b[0m\n\u001b[1;32m    460\u001b[0m \u001b[0;34m\u001b[0m\u001b[0m\n\u001b[1;32m    461\u001b[0m     \u001b[0;31m# Create the parser.\u001b[0m\u001b[0;34m\u001b[0m\u001b[0;34m\u001b[0m\u001b[0;34m\u001b[0m\u001b[0m\n\u001b[0;32m--> 462\u001b[0;31m     \u001b[0mparser\u001b[0m \u001b[0;34m=\u001b[0m \u001b[0mTextFileReader\u001b[0m\u001b[0;34m(\u001b[0m\u001b[0mfilepath_or_buffer\u001b[0m\u001b[0;34m,\u001b[0m \u001b[0;34m**\u001b[0m\u001b[0mkwds\u001b[0m\u001b[0;34m)\u001b[0m\u001b[0;34m\u001b[0m\u001b[0;34m\u001b[0m\u001b[0m\n\u001b[0m\u001b[1;32m    463\u001b[0m \u001b[0;34m\u001b[0m\u001b[0m\n\u001b[1;32m    464\u001b[0m     \u001b[0;32mif\u001b[0m \u001b[0mchunksize\u001b[0m \u001b[0;32mor\u001b[0m \u001b[0miterator\u001b[0m\u001b[0;34m:\u001b[0m\u001b[0;34m\u001b[0m\u001b[0;34m\u001b[0m\u001b[0m\n",
      "\u001b[0;32m~/.pyenv/versions/miniconda3-latest/envs/urbana/lib/python3.9/site-packages/pandas/io/parsers.py\u001b[0m in \u001b[0;36m__init__\u001b[0;34m(self, f, engine, **kwds)\u001b[0m\n\u001b[1;32m    817\u001b[0m             \u001b[0mself\u001b[0m\u001b[0;34m.\u001b[0m\u001b[0moptions\u001b[0m\u001b[0;34m[\u001b[0m\u001b[0;34m\"has_index_names\"\u001b[0m\u001b[0;34m]\u001b[0m \u001b[0;34m=\u001b[0m \u001b[0mkwds\u001b[0m\u001b[0;34m[\u001b[0m\u001b[0;34m\"has_index_names\"\u001b[0m\u001b[0;34m]\u001b[0m\u001b[0;34m\u001b[0m\u001b[0;34m\u001b[0m\u001b[0m\n\u001b[1;32m    818\u001b[0m \u001b[0;34m\u001b[0m\u001b[0m\n\u001b[0;32m--> 819\u001b[0;31m         \u001b[0mself\u001b[0m\u001b[0;34m.\u001b[0m\u001b[0m_engine\u001b[0m \u001b[0;34m=\u001b[0m \u001b[0mself\u001b[0m\u001b[0;34m.\u001b[0m\u001b[0m_make_engine\u001b[0m\u001b[0;34m(\u001b[0m\u001b[0mself\u001b[0m\u001b[0;34m.\u001b[0m\u001b[0mengine\u001b[0m\u001b[0;34m)\u001b[0m\u001b[0;34m\u001b[0m\u001b[0;34m\u001b[0m\u001b[0m\n\u001b[0m\u001b[1;32m    820\u001b[0m \u001b[0;34m\u001b[0m\u001b[0m\n\u001b[1;32m    821\u001b[0m     \u001b[0;32mdef\u001b[0m \u001b[0mclose\u001b[0m\u001b[0;34m(\u001b[0m\u001b[0mself\u001b[0m\u001b[0;34m)\u001b[0m\u001b[0;34m:\u001b[0m\u001b[0;34m\u001b[0m\u001b[0;34m\u001b[0m\u001b[0m\n",
      "\u001b[0;32m~/.pyenv/versions/miniconda3-latest/envs/urbana/lib/python3.9/site-packages/pandas/io/parsers.py\u001b[0m in \u001b[0;36m_make_engine\u001b[0;34m(self, engine)\u001b[0m\n\u001b[1;32m   1048\u001b[0m             )\n\u001b[1;32m   1049\u001b[0m         \u001b[0;31m# error: Too many arguments for \"ParserBase\"\u001b[0m\u001b[0;34m\u001b[0m\u001b[0;34m\u001b[0m\u001b[0;34m\u001b[0m\u001b[0m\n\u001b[0;32m-> 1050\u001b[0;31m         \u001b[0;32mreturn\u001b[0m \u001b[0mmapping\u001b[0m\u001b[0;34m[\u001b[0m\u001b[0mengine\u001b[0m\u001b[0;34m]\u001b[0m\u001b[0;34m(\u001b[0m\u001b[0mself\u001b[0m\u001b[0;34m.\u001b[0m\u001b[0mf\u001b[0m\u001b[0;34m,\u001b[0m \u001b[0;34m**\u001b[0m\u001b[0mself\u001b[0m\u001b[0;34m.\u001b[0m\u001b[0moptions\u001b[0m\u001b[0;34m)\u001b[0m  \u001b[0;31m# type: ignore[call-arg]\u001b[0m\u001b[0;34m\u001b[0m\u001b[0;34m\u001b[0m\u001b[0m\n\u001b[0m\u001b[1;32m   1051\u001b[0m \u001b[0;34m\u001b[0m\u001b[0m\n\u001b[1;32m   1052\u001b[0m     \u001b[0;32mdef\u001b[0m \u001b[0m_failover_to_python\u001b[0m\u001b[0;34m(\u001b[0m\u001b[0mself\u001b[0m\u001b[0;34m)\u001b[0m\u001b[0;34m:\u001b[0m\u001b[0;34m\u001b[0m\u001b[0;34m\u001b[0m\u001b[0m\n",
      "\u001b[0;32m~/.pyenv/versions/miniconda3-latest/envs/urbana/lib/python3.9/site-packages/pandas/io/parsers.py\u001b[0m in \u001b[0;36m__init__\u001b[0;34m(self, src, **kwds)\u001b[0m\n\u001b[1;32m   1865\u001b[0m \u001b[0;34m\u001b[0m\u001b[0m\n\u001b[1;32m   1866\u001b[0m         \u001b[0;31m# open handles\u001b[0m\u001b[0;34m\u001b[0m\u001b[0;34m\u001b[0m\u001b[0;34m\u001b[0m\u001b[0m\n\u001b[0;32m-> 1867\u001b[0;31m         \u001b[0mself\u001b[0m\u001b[0;34m.\u001b[0m\u001b[0m_open_handles\u001b[0m\u001b[0;34m(\u001b[0m\u001b[0msrc\u001b[0m\u001b[0;34m,\u001b[0m \u001b[0mkwds\u001b[0m\u001b[0;34m)\u001b[0m\u001b[0;34m\u001b[0m\u001b[0;34m\u001b[0m\u001b[0m\n\u001b[0m\u001b[1;32m   1868\u001b[0m         \u001b[0;32massert\u001b[0m \u001b[0mself\u001b[0m\u001b[0;34m.\u001b[0m\u001b[0mhandles\u001b[0m \u001b[0;32mis\u001b[0m \u001b[0;32mnot\u001b[0m \u001b[0;32mNone\u001b[0m\u001b[0;34m\u001b[0m\u001b[0;34m\u001b[0m\u001b[0m\n\u001b[1;32m   1869\u001b[0m         \u001b[0;32mfor\u001b[0m \u001b[0mkey\u001b[0m \u001b[0;32min\u001b[0m \u001b[0;34m(\u001b[0m\u001b[0;34m\"storage_options\"\u001b[0m\u001b[0;34m,\u001b[0m \u001b[0;34m\"encoding\"\u001b[0m\u001b[0;34m,\u001b[0m \u001b[0;34m\"memory_map\"\u001b[0m\u001b[0;34m,\u001b[0m \u001b[0;34m\"compression\"\u001b[0m\u001b[0;34m)\u001b[0m\u001b[0;34m:\u001b[0m\u001b[0;34m\u001b[0m\u001b[0;34m\u001b[0m\u001b[0m\n",
      "\u001b[0;32m~/.pyenv/versions/miniconda3-latest/envs/urbana/lib/python3.9/site-packages/pandas/io/parsers.py\u001b[0m in \u001b[0;36m_open_handles\u001b[0;34m(self, src, kwds)\u001b[0m\n\u001b[1;32m   1360\u001b[0m         \u001b[0mLet\u001b[0m \u001b[0mthe\u001b[0m \u001b[0mreaders\u001b[0m \u001b[0mopen\u001b[0m \u001b[0mIOHanldes\u001b[0m \u001b[0mafter\u001b[0m \u001b[0mthey\u001b[0m \u001b[0mare\u001b[0m \u001b[0mdone\u001b[0m \u001b[0;32mwith\u001b[0m \u001b[0mtheir\u001b[0m \u001b[0mpotential\u001b[0m \u001b[0mraises\u001b[0m\u001b[0;34m.\u001b[0m\u001b[0;34m\u001b[0m\u001b[0;34m\u001b[0m\u001b[0m\n\u001b[1;32m   1361\u001b[0m         \"\"\"\n\u001b[0;32m-> 1362\u001b[0;31m         self.handles = get_handle(\n\u001b[0m\u001b[1;32m   1363\u001b[0m             \u001b[0msrc\u001b[0m\u001b[0;34m,\u001b[0m\u001b[0;34m\u001b[0m\u001b[0;34m\u001b[0m\u001b[0m\n\u001b[1;32m   1364\u001b[0m             \u001b[0;34m\"r\"\u001b[0m\u001b[0;34m,\u001b[0m\u001b[0;34m\u001b[0m\u001b[0;34m\u001b[0m\u001b[0m\n",
      "\u001b[0;32m~/.pyenv/versions/miniconda3-latest/envs/urbana/lib/python3.9/site-packages/pandas/io/common.py\u001b[0m in \u001b[0;36mget_handle\u001b[0;34m(path_or_buf, mode, encoding, compression, memory_map, is_text, errors, storage_options)\u001b[0m\n\u001b[1;32m    556\u001b[0m \u001b[0;34m\u001b[0m\u001b[0m\n\u001b[1;32m    557\u001b[0m     \u001b[0;31m# open URLs\u001b[0m\u001b[0;34m\u001b[0m\u001b[0;34m\u001b[0m\u001b[0;34m\u001b[0m\u001b[0m\n\u001b[0;32m--> 558\u001b[0;31m     ioargs = _get_filepath_or_buffer(\n\u001b[0m\u001b[1;32m    559\u001b[0m         \u001b[0mpath_or_buf\u001b[0m\u001b[0;34m,\u001b[0m\u001b[0;34m\u001b[0m\u001b[0;34m\u001b[0m\u001b[0m\n\u001b[1;32m    560\u001b[0m         \u001b[0mencoding\u001b[0m\u001b[0;34m=\u001b[0m\u001b[0mencoding\u001b[0m\u001b[0;34m,\u001b[0m\u001b[0;34m\u001b[0m\u001b[0;34m\u001b[0m\u001b[0m\n",
      "\u001b[0;32m~/.pyenv/versions/miniconda3-latest/envs/urbana/lib/python3.9/site-packages/pandas/io/common.py\u001b[0m in \u001b[0;36m_get_filepath_or_buffer\u001b[0;34m(filepath_or_buffer, encoding, compression, mode, storage_options)\u001b[0m\n\u001b[1;32m    287\u001b[0m                 \u001b[0;34m\"storage_options passed with file object or non-fsspec file path\"\u001b[0m\u001b[0;34m\u001b[0m\u001b[0;34m\u001b[0m\u001b[0m\n\u001b[1;32m    288\u001b[0m             )\n\u001b[0;32m--> 289\u001b[0;31m         \u001b[0mreq\u001b[0m \u001b[0;34m=\u001b[0m \u001b[0murlopen\u001b[0m\u001b[0;34m(\u001b[0m\u001b[0mfilepath_or_buffer\u001b[0m\u001b[0;34m)\u001b[0m\u001b[0;34m\u001b[0m\u001b[0;34m\u001b[0m\u001b[0m\n\u001b[0m\u001b[1;32m    290\u001b[0m         \u001b[0mcontent_encoding\u001b[0m \u001b[0;34m=\u001b[0m \u001b[0mreq\u001b[0m\u001b[0;34m.\u001b[0m\u001b[0mheaders\u001b[0m\u001b[0;34m.\u001b[0m\u001b[0mget\u001b[0m\u001b[0;34m(\u001b[0m\u001b[0;34m\"Content-Encoding\"\u001b[0m\u001b[0;34m,\u001b[0m \u001b[0;32mNone\u001b[0m\u001b[0;34m)\u001b[0m\u001b[0;34m\u001b[0m\u001b[0;34m\u001b[0m\u001b[0m\n\u001b[1;32m    291\u001b[0m         \u001b[0;32mif\u001b[0m \u001b[0mcontent_encoding\u001b[0m \u001b[0;34m==\u001b[0m \u001b[0;34m\"gzip\"\u001b[0m\u001b[0;34m:\u001b[0m\u001b[0;34m\u001b[0m\u001b[0;34m\u001b[0m\u001b[0m\n",
      "\u001b[0;32m~/.pyenv/versions/miniconda3-latest/envs/urbana/lib/python3.9/site-packages/pandas/io/common.py\u001b[0m in \u001b[0;36murlopen\u001b[0;34m(*args, **kwargs)\u001b[0m\n\u001b[1;32m    193\u001b[0m     \u001b[0;32mimport\u001b[0m \u001b[0murllib\u001b[0m\u001b[0;34m.\u001b[0m\u001b[0mrequest\u001b[0m\u001b[0;34m\u001b[0m\u001b[0;34m\u001b[0m\u001b[0m\n\u001b[1;32m    194\u001b[0m \u001b[0;34m\u001b[0m\u001b[0m\n\u001b[0;32m--> 195\u001b[0;31m     \u001b[0;32mreturn\u001b[0m \u001b[0murllib\u001b[0m\u001b[0;34m.\u001b[0m\u001b[0mrequest\u001b[0m\u001b[0;34m.\u001b[0m\u001b[0murlopen\u001b[0m\u001b[0;34m(\u001b[0m\u001b[0;34m*\u001b[0m\u001b[0margs\u001b[0m\u001b[0;34m,\u001b[0m \u001b[0;34m**\u001b[0m\u001b[0mkwargs\u001b[0m\u001b[0;34m)\u001b[0m\u001b[0;34m\u001b[0m\u001b[0;34m\u001b[0m\u001b[0m\n\u001b[0m\u001b[1;32m    196\u001b[0m \u001b[0;34m\u001b[0m\u001b[0m\n\u001b[1;32m    197\u001b[0m \u001b[0;34m\u001b[0m\u001b[0m\n",
      "\u001b[0;32m~/.pyenv/versions/miniconda3-latest/envs/urbana/lib/python3.9/urllib/request.py\u001b[0m in \u001b[0;36murlopen\u001b[0;34m(url, data, timeout, cafile, capath, cadefault, context)\u001b[0m\n\u001b[1;32m    212\u001b[0m     \u001b[0;32melse\u001b[0m\u001b[0;34m:\u001b[0m\u001b[0;34m\u001b[0m\u001b[0;34m\u001b[0m\u001b[0m\n\u001b[1;32m    213\u001b[0m         \u001b[0mopener\u001b[0m \u001b[0;34m=\u001b[0m \u001b[0m_opener\u001b[0m\u001b[0;34m\u001b[0m\u001b[0;34m\u001b[0m\u001b[0m\n\u001b[0;32m--> 214\u001b[0;31m     \u001b[0;32mreturn\u001b[0m \u001b[0mopener\u001b[0m\u001b[0;34m.\u001b[0m\u001b[0mopen\u001b[0m\u001b[0;34m(\u001b[0m\u001b[0murl\u001b[0m\u001b[0;34m,\u001b[0m \u001b[0mdata\u001b[0m\u001b[0;34m,\u001b[0m \u001b[0mtimeout\u001b[0m\u001b[0;34m)\u001b[0m\u001b[0;34m\u001b[0m\u001b[0;34m\u001b[0m\u001b[0m\n\u001b[0m\u001b[1;32m    215\u001b[0m \u001b[0;34m\u001b[0m\u001b[0m\n\u001b[1;32m    216\u001b[0m \u001b[0;32mdef\u001b[0m \u001b[0minstall_opener\u001b[0m\u001b[0;34m(\u001b[0m\u001b[0mopener\u001b[0m\u001b[0;34m)\u001b[0m\u001b[0;34m:\u001b[0m\u001b[0;34m\u001b[0m\u001b[0;34m\u001b[0m\u001b[0m\n",
      "\u001b[0;32m~/.pyenv/versions/miniconda3-latest/envs/urbana/lib/python3.9/urllib/request.py\u001b[0m in \u001b[0;36mopen\u001b[0;34m(self, fullurl, data, timeout)\u001b[0m\n\u001b[1;32m    521\u001b[0m         \u001b[0;32mfor\u001b[0m \u001b[0mprocessor\u001b[0m \u001b[0;32min\u001b[0m \u001b[0mself\u001b[0m\u001b[0;34m.\u001b[0m\u001b[0mprocess_response\u001b[0m\u001b[0;34m.\u001b[0m\u001b[0mget\u001b[0m\u001b[0;34m(\u001b[0m\u001b[0mprotocol\u001b[0m\u001b[0;34m,\u001b[0m \u001b[0;34m[\u001b[0m\u001b[0;34m]\u001b[0m\u001b[0;34m)\u001b[0m\u001b[0;34m:\u001b[0m\u001b[0;34m\u001b[0m\u001b[0;34m\u001b[0m\u001b[0m\n\u001b[1;32m    522\u001b[0m             \u001b[0mmeth\u001b[0m \u001b[0;34m=\u001b[0m \u001b[0mgetattr\u001b[0m\u001b[0;34m(\u001b[0m\u001b[0mprocessor\u001b[0m\u001b[0;34m,\u001b[0m \u001b[0mmeth_name\u001b[0m\u001b[0;34m)\u001b[0m\u001b[0;34m\u001b[0m\u001b[0;34m\u001b[0m\u001b[0m\n\u001b[0;32m--> 523\u001b[0;31m             \u001b[0mresponse\u001b[0m \u001b[0;34m=\u001b[0m \u001b[0mmeth\u001b[0m\u001b[0;34m(\u001b[0m\u001b[0mreq\u001b[0m\u001b[0;34m,\u001b[0m \u001b[0mresponse\u001b[0m\u001b[0;34m)\u001b[0m\u001b[0;34m\u001b[0m\u001b[0;34m\u001b[0m\u001b[0m\n\u001b[0m\u001b[1;32m    524\u001b[0m \u001b[0;34m\u001b[0m\u001b[0m\n\u001b[1;32m    525\u001b[0m         \u001b[0;32mreturn\u001b[0m \u001b[0mresponse\u001b[0m\u001b[0;34m\u001b[0m\u001b[0;34m\u001b[0m\u001b[0m\n",
      "\u001b[0;32m~/.pyenv/versions/miniconda3-latest/envs/urbana/lib/python3.9/urllib/request.py\u001b[0m in \u001b[0;36mhttp_response\u001b[0;34m(self, request, response)\u001b[0m\n\u001b[1;32m    630\u001b[0m         \u001b[0;31m# request was successfully received, understood, and accepted.\u001b[0m\u001b[0;34m\u001b[0m\u001b[0;34m\u001b[0m\u001b[0;34m\u001b[0m\u001b[0m\n\u001b[1;32m    631\u001b[0m         \u001b[0;32mif\u001b[0m \u001b[0;32mnot\u001b[0m \u001b[0;34m(\u001b[0m\u001b[0;36m200\u001b[0m \u001b[0;34m<=\u001b[0m \u001b[0mcode\u001b[0m \u001b[0;34m<\u001b[0m \u001b[0;36m300\u001b[0m\u001b[0;34m)\u001b[0m\u001b[0;34m:\u001b[0m\u001b[0;34m\u001b[0m\u001b[0;34m\u001b[0m\u001b[0m\n\u001b[0;32m--> 632\u001b[0;31m             response = self.parent.error(\n\u001b[0m\u001b[1;32m    633\u001b[0m                 'http', request, response, code, msg, hdrs)\n\u001b[1;32m    634\u001b[0m \u001b[0;34m\u001b[0m\u001b[0m\n",
      "\u001b[0;32m~/.pyenv/versions/miniconda3-latest/envs/urbana/lib/python3.9/urllib/request.py\u001b[0m in \u001b[0;36merror\u001b[0;34m(self, proto, *args)\u001b[0m\n\u001b[1;32m    559\u001b[0m         \u001b[0;32mif\u001b[0m \u001b[0mhttp_err\u001b[0m\u001b[0;34m:\u001b[0m\u001b[0;34m\u001b[0m\u001b[0;34m\u001b[0m\u001b[0m\n\u001b[1;32m    560\u001b[0m             \u001b[0margs\u001b[0m \u001b[0;34m=\u001b[0m \u001b[0;34m(\u001b[0m\u001b[0mdict\u001b[0m\u001b[0;34m,\u001b[0m \u001b[0;34m'default'\u001b[0m\u001b[0;34m,\u001b[0m \u001b[0;34m'http_error_default'\u001b[0m\u001b[0;34m)\u001b[0m \u001b[0;34m+\u001b[0m \u001b[0morig_args\u001b[0m\u001b[0;34m\u001b[0m\u001b[0;34m\u001b[0m\u001b[0m\n\u001b[0;32m--> 561\u001b[0;31m             \u001b[0;32mreturn\u001b[0m \u001b[0mself\u001b[0m\u001b[0;34m.\u001b[0m\u001b[0m_call_chain\u001b[0m\u001b[0;34m(\u001b[0m\u001b[0;34m*\u001b[0m\u001b[0margs\u001b[0m\u001b[0;34m)\u001b[0m\u001b[0;34m\u001b[0m\u001b[0;34m\u001b[0m\u001b[0m\n\u001b[0m\u001b[1;32m    562\u001b[0m \u001b[0;34m\u001b[0m\u001b[0m\n\u001b[1;32m    563\u001b[0m \u001b[0;31m# XXX probably also want an abstract factory that knows when it makes\u001b[0m\u001b[0;34m\u001b[0m\u001b[0;34m\u001b[0m\u001b[0;34m\u001b[0m\u001b[0m\n",
      "\u001b[0;32m~/.pyenv/versions/miniconda3-latest/envs/urbana/lib/python3.9/urllib/request.py\u001b[0m in \u001b[0;36m_call_chain\u001b[0;34m(self, chain, kind, meth_name, *args)\u001b[0m\n\u001b[1;32m    492\u001b[0m         \u001b[0;32mfor\u001b[0m \u001b[0mhandler\u001b[0m \u001b[0;32min\u001b[0m \u001b[0mhandlers\u001b[0m\u001b[0;34m:\u001b[0m\u001b[0;34m\u001b[0m\u001b[0;34m\u001b[0m\u001b[0m\n\u001b[1;32m    493\u001b[0m             \u001b[0mfunc\u001b[0m \u001b[0;34m=\u001b[0m \u001b[0mgetattr\u001b[0m\u001b[0;34m(\u001b[0m\u001b[0mhandler\u001b[0m\u001b[0;34m,\u001b[0m \u001b[0mmeth_name\u001b[0m\u001b[0;34m)\u001b[0m\u001b[0;34m\u001b[0m\u001b[0;34m\u001b[0m\u001b[0m\n\u001b[0;32m--> 494\u001b[0;31m             \u001b[0mresult\u001b[0m \u001b[0;34m=\u001b[0m \u001b[0mfunc\u001b[0m\u001b[0;34m(\u001b[0m\u001b[0;34m*\u001b[0m\u001b[0margs\u001b[0m\u001b[0;34m)\u001b[0m\u001b[0;34m\u001b[0m\u001b[0;34m\u001b[0m\u001b[0m\n\u001b[0m\u001b[1;32m    495\u001b[0m             \u001b[0;32mif\u001b[0m \u001b[0mresult\u001b[0m \u001b[0;32mis\u001b[0m \u001b[0;32mnot\u001b[0m \u001b[0;32mNone\u001b[0m\u001b[0;34m:\u001b[0m\u001b[0;34m\u001b[0m\u001b[0;34m\u001b[0m\u001b[0m\n\u001b[1;32m    496\u001b[0m                 \u001b[0;32mreturn\u001b[0m \u001b[0mresult\u001b[0m\u001b[0;34m\u001b[0m\u001b[0;34m\u001b[0m\u001b[0m\n",
      "\u001b[0;32m~/.pyenv/versions/miniconda3-latest/envs/urbana/lib/python3.9/urllib/request.py\u001b[0m in \u001b[0;36mhttp_error_default\u001b[0;34m(self, req, fp, code, msg, hdrs)\u001b[0m\n\u001b[1;32m    639\u001b[0m \u001b[0;32mclass\u001b[0m \u001b[0mHTTPDefaultErrorHandler\u001b[0m\u001b[0;34m(\u001b[0m\u001b[0mBaseHandler\u001b[0m\u001b[0;34m)\u001b[0m\u001b[0;34m:\u001b[0m\u001b[0;34m\u001b[0m\u001b[0;34m\u001b[0m\u001b[0m\n\u001b[1;32m    640\u001b[0m     \u001b[0;32mdef\u001b[0m \u001b[0mhttp_error_default\u001b[0m\u001b[0;34m(\u001b[0m\u001b[0mself\u001b[0m\u001b[0;34m,\u001b[0m \u001b[0mreq\u001b[0m\u001b[0;34m,\u001b[0m \u001b[0mfp\u001b[0m\u001b[0;34m,\u001b[0m \u001b[0mcode\u001b[0m\u001b[0;34m,\u001b[0m \u001b[0mmsg\u001b[0m\u001b[0;34m,\u001b[0m \u001b[0mhdrs\u001b[0m\u001b[0;34m)\u001b[0m\u001b[0;34m:\u001b[0m\u001b[0;34m\u001b[0m\u001b[0;34m\u001b[0m\u001b[0m\n\u001b[0;32m--> 641\u001b[0;31m         \u001b[0;32mraise\u001b[0m \u001b[0mHTTPError\u001b[0m\u001b[0;34m(\u001b[0m\u001b[0mreq\u001b[0m\u001b[0;34m.\u001b[0m\u001b[0mfull_url\u001b[0m\u001b[0;34m,\u001b[0m \u001b[0mcode\u001b[0m\u001b[0;34m,\u001b[0m \u001b[0mmsg\u001b[0m\u001b[0;34m,\u001b[0m \u001b[0mhdrs\u001b[0m\u001b[0;34m,\u001b[0m \u001b[0mfp\u001b[0m\u001b[0;34m)\u001b[0m\u001b[0;34m\u001b[0m\u001b[0;34m\u001b[0m\u001b[0m\n\u001b[0m\u001b[1;32m    642\u001b[0m \u001b[0;34m\u001b[0m\u001b[0m\n\u001b[1;32m    643\u001b[0m \u001b[0;32mclass\u001b[0m \u001b[0mHTTPRedirectHandler\u001b[0m\u001b[0;34m(\u001b[0m\u001b[0mBaseHandler\u001b[0m\u001b[0;34m)\u001b[0m\u001b[0;34m:\u001b[0m\u001b[0;34m\u001b[0m\u001b[0;34m\u001b[0m\u001b[0m\n",
      "\u001b[0;31mHTTPError\u001b[0m: HTTP Error 404: Not Found"
     ]
    }
   ],
   "source": [
    "airbnb_number_sect = sect[[\"N_district\", \"N_section\"]]\n",
    "airbnb_price_sect = sect[[\"N_district\", \"N_section\"]]\n",
    "airbnb_price_person_sect = sect[[\"N_district\", \"N_section\"]]\n",
    "airbnb_loc_review_sect = sect[[\"N_district\", \"N_section\"]]\n",
    "\n",
    "###########################################################\n",
    "df = get_insideairbnb_data(airbnb_chosen.year, airbnb_chosen.month, airbnb_chosen.day)\n",
    "\n",
    "print(\"File opened succesfully!\")\n",
    "\n",
    "date = airbnb_chosen.strftime(\"%Y_%m\")\n",
    "\n",
    "# Some rows are wrong\n",
    "df = df[df[\"price\"].str.contains(\"-\") == False]\n",
    "\n",
    "# Make the prices numbers and remove outliers (prices over 1000)\n",
    "df[\"price\"] = df[\"price\"].str.replace(\"$\", \"\").str.replace(\",\", \"\").astype(\"float\")\n",
    "df = df[df[\"price\"] < 1000]\n",
    "df[\"price_person\"] = df[\"price\"].div(df[\"accommodates\"])\n",
    "df[\"review_scores_location\"] = df[\"review_scores_location\"].astype(\"float\")\n",
    "\n",
    "df = df[[\"price\", \"price_person\", \"review_scores_location\", \"latitude\", \"longitude\"]]\n",
    "\n",
    "df = gpd.GeoDataFrame(df, geometry=gpd.points_from_xy(df.longitude, df.latitude))\n",
    "\n",
    "df.drop([\"longitude\", \"latitude\"], axis=1, inplace=True)\n",
    "\n",
    "# Set the column for the tags\n",
    "df[\"Tag\"] = -1\n",
    "\n",
    "# Classify the Airbnbs based on their location\n",
    "for i in range(len(sect.index)):\n",
    "    selection = df[\"geometry\"].within(sect[\"geometry\"][i])\n",
    "    selection_index = selection[selection].index\n",
    "    df.loc[selection_index, \"Tag\"] = sect.index[i]\n",
    "\n",
    "# Remove points that couldn't be classified\n",
    "df = df[df[\"Tag\"] != -1]\n",
    "\n",
    "print(\"Positions processed succesfully!\")\n",
    "\n",
    "\n",
    "########################################################################################################################3\n",
    "# # Extract the data from the file\n",
    "\n",
    "temp_number_sect = (\n",
    "    df[\"Tag\"].value_counts().rename(\"Airbnb_Number\").sort_index().to_frame()\n",
    ")\n",
    "\n",
    "temp_price_sect = (\n",
    "    df.groupby([\"Tag\"])[\"price\"].agg(\"mean\").rename(\"Airbnb_Price\").sort_index()\n",
    ").to_frame()\n",
    "\n",
    "temp_price_person_sect = (\n",
    "    df.groupby([\"Tag\"])[\"price_person\"]\n",
    "    .agg(\"mean\")\n",
    "    .rename(\"Airbnb_Price_Person\")\n",
    "    .sort_index()\n",
    ").to_frame()\n",
    "\n",
    "temp_loc_review_sect = (\n",
    "    df.groupby([\"Tag\"])[\"review_scores_location\"]\n",
    "    .agg(\"mean\")\n",
    "    .rename(\"Airbnb_Location_Score\")\n",
    "    .sort_index()\n",
    ").to_frame()\n",
    "\n",
    "sect = merge_datasets(sect, temp_number_sect)\n",
    "\n",
    "sect = merge_datasets(sect, temp_price_sect)\n",
    "\n",
    "sect = merge_datasets(sect, temp_price_person_sect)\n",
    "\n",
    "sect = merge_datasets(sect, temp_loc_review_sect)\n",
    "\n",
    "\n",
    "sect.fillna({\"Airbnb_Number\": 0}, inplace=True)\n",
    "sect[\"Airbnb_Number\"] = sect[\"Airbnb_Number\"].astype(\"int\")"
   ]
  },
  {
   "cell_type": "code",
   "execution_count": 48,
   "metadata": {},
   "outputs": [
    {
     "output_type": "execute_result",
     "data": {
      "text/plain": [
       "'http://data.insideairbnb.com/spain/catalonia/barcelona/2017-07-06/data/listings.csv.gz'"
      ]
     },
     "metadata": {},
     "execution_count": 48
    }
   ],
   "source": [
    "airbnb_url"
   ]
  },
  {
   "cell_type": "markdown",
   "metadata": {},
   "source": [
    "# Barcelona City Council"
   ]
  },
  {
   "cell_type": "markdown",
   "metadata": {},
   "source": [
    "## Gender"
   ]
  },
  {
   "cell_type": "markdown",
   "metadata": {},
   "source": [
    "http://www.bcn.cat/estadistica/castella/dades/tpob/pad/padro/a2017/sexe/sexe05.htm"
   ]
  },
  {
   "cell_type": "code",
   "execution_count": 52,
   "metadata": {},
   "outputs": [],
   "source": [
    "table_gender = pd.read_html(\n",
    "    (f\"https://www.bcn.cat/estadistica/castella/dades/tpob/pad/padro/a{YEAR}\"\n",
    "    \"/sexe/sexe05.htm\"),\n",
    "    thousands=\".\",\n",
    ")\n",
    "\n",
    "gender = table_gender[0]\n",
    "gender.columns = gender.loc[4]\n",
    "gender.drop(\n",
    "    labels=[0, 1, 2, 3, 4, 5, 6, 7, 8, 1077, 1078, 1079, 1080], axis=0, inplace=True\n",
    ")\n",
    "gender = gender.loc[:, ~gender.columns.duplicated()]\n",
    "gender[[\"N_district\", \"N_section\"]] = (\n",
    "    gender[\"Dto. SC\"].str.split(\" \", 1, expand=True).astype(\"int\")\n",
    ")\n",
    "gender[\"Tag\"] = (\n",
    "    gender[\"N_district\"].map(\"{:02d}\".format)\n",
    "    + \"_\"\n",
    "    + gender[\"N_section\"].map(\"{:03d}\".format)\n",
    ")\n",
    "gender.columns.name = None\n",
    "\n",
    "gender.set_index(\"Tag\", inplace=True)\n",
    "\n",
    "gender[\"Mujeres\"] = gender[\"Mujeres\"].astype(\"int\").div(gender[\"TOTAL\"].astype(\"int\"))\n",
    "\n",
    "gender.drop(\n",
    "    [\"Dto. SC\", \"N_district\", \"N_section\", \"Hombres\", \"TOTAL\"], axis=1, inplace=True\n",
    ")\n",
    "\n",
    "gender.rename({\"Mujeres\": \"Percentage_Gender_Female\"}, axis=1, inplace=True)\n",
    "\n",
    "sect = merge_datasets(sect, gender)"
   ]
  },
  {
   "cell_type": "markdown",
   "metadata": {},
   "source": [
    "# Age"
   ]
  },
  {
   "cell_type": "markdown",
   "metadata": {},
   "source": [
    "http://www.bcn.cat/estadistica/castella/dades/tpob/pad/padro/a2017/edat/edatg11.htm"
   ]
  },
  {
   "cell_type": "code",
   "execution_count": 53,
   "metadata": {},
   "outputs": [],
   "source": [
    "table_age = pd.read_html(\n",
    "    f\"https://www.bcn.cat/estadistica/castella/dades/tpob/pad/padro/a{YEAR}/edat/edatg11.htm\",\n",
    "    thousands=\".\",\n",
    ")\n",
    "\n",
    "age = table_age[0]\n",
    "age.columns = age.loc[4]\n",
    "age.drop(\n",
    "    labels=[0, 1, 2, 3, 4, 5, 6, 7, 8, 1077, 1078, 1079, 1080], axis=0, inplace=True\n",
    ")\n",
    "age = age.loc[:, ~age.columns.duplicated()]\n",
    "age[[\"N_district\", \"N_section\"]] = (\n",
    "    age[\"Dto. SC\"].str.split(\" \", 1, expand=True).astype(\"int\")\n",
    ")\n",
    "age[\"Tag\"] = (\n",
    "    age[\"N_district\"].map(\"{:02d}\".format) + \"_\" + age[\"N_section\"].map(\"{:03d}\".format)\n",
    ")\n",
    "age.columns.name = None\n",
    "\n",
    "age.set_index(\"Tag\", inplace=True)\n",
    "\n",
    "age.rename(\n",
    "    {\n",
    "        \"0-14 años\": \"Percentage_Age_0_14\",\n",
    "        \"15-24 años\": \"Percentage_Age_15_24\",\n",
    "        \"25-39 años\": \"Percentage_Age_25_39\",\n",
    "        \"40-64 años\": \"Percentage_Age_40_64\",\n",
    "        \"65 años y más\": \"Percentage_Age_65_Plus\",\n",
    "    },\n",
    "    axis=1,\n",
    "    inplace=True,\n",
    ")\n",
    "\n",
    "age.drop([\"Dto. SC\", \"N_district\", \"N_section\"], axis=1, inplace=True)\n",
    "\n",
    "for col in reversed(age.columns):\n",
    "    age[col] = age[col].astype(\"int\").div(age[\"TOTAL\"].astype(\"int\"))\n",
    "\n",
    "age.drop([\"TOTAL\"], axis=1, inplace=True)\n",
    "\n",
    "sect = merge_datasets(sect, age)"
   ]
  },
  {
   "cell_type": "markdown",
   "metadata": {},
   "source": [
    "## Mean household"
   ]
  },
  {
   "cell_type": "markdown",
   "metadata": {},
   "source": [
    "http://www.bcn.cat/estadistica/castella/dades/tpob/pad/padro/a2017/llars/ocu04.htm"
   ]
  },
  {
   "cell_type": "code",
   "execution_count": 54,
   "metadata": {},
   "outputs": [],
   "source": [
    "table_household = pd.read_html(\n",
    "    f\"https://www.bcn.cat/estadistica/castella/dades/tpob/pad/padro/a{YEAR}/llars/ocu04.htm\",\n",
    "    thousands=\".\",\n",
    "    decimal=\",\",\n",
    ")\n",
    "\n",
    "household = table_household[0]\n",
    "household.columns = household.loc[4]\n",
    "household.drop(\n",
    "    labels=[0, 1, 2, 3, 4, 5, 6, 7, 8, 1077, 1078, 1079, 1080], axis=0, inplace=True\n",
    ")\n",
    "household = household.loc[:, ~household.columns.duplicated()]\n",
    "household[[\"N_district\", \"N_section\"]] = (\n",
    "    household[\"Dto. SC\"].str.split(\" \", 1, expand=True).astype(\"int\")\n",
    ")\n",
    "household[\"Tag\"] = (\n",
    "    household[\"N_district\"].map(\"{:02d}\".format)\n",
    "    + \"_\"\n",
    "    + household[\"N_section\"].map(\"{:03d}\".format)\n",
    ")\n",
    "household.columns.name = None\n",
    "\n",
    "household.set_index(\"Tag\", inplace=True)\n",
    "\n",
    "household.drop(\n",
    "    [\"Dto. SC\", \"N_district\", \"N_section\", \"Población\", \"Domicilios\"],\n",
    "    axis=1,\n",
    "    inplace=True,\n",
    ")\n",
    "\n",
    "household.rename(\n",
    "    {\"Ocupación media (personas por domicilio)\": \"Household\"}, axis=1, inplace=True\n",
    ")\n",
    "\n",
    "household[\"Household\"] = household[\"Household\"].astype(\"float\")\n",
    "\n",
    "sect = merge_datasets(sect, household)"
   ]
  },
  {
   "cell_type": "markdown",
   "metadata": {},
   "source": [
    "## Education Level"
   ]
  },
  {
   "cell_type": "markdown",
   "metadata": {},
   "source": [
    "Given the Spanish education system, the groups are defined as:\n",
    "\n",
    "\n",
    "*   Elementary School = Primaria (6-12 years)\n",
    "*   Middle School = Secundaria (13-16 years)\n",
    "*   High School = Bachillerato (17-18 years)\n",
    "\n",
    "The data is extracted from:\n",
    "\n",
    "\n",
    "http://www.bcn.cat/estadistica/angles/dades/tpob/pad/padro/a2017/nivi/nivi05.htm"
   ]
  },
  {
   "cell_type": "code",
   "execution_count": 55,
   "metadata": {},
   "outputs": [],
   "source": [
    "table_education = pd.read_html(\n",
    "    f\"https://www.bcn.cat/estadistica/castella/dades/tpob/pad/padro/a{YEAR}/nivi/nivi11.htm\",\n",
    "    thousands=\".\",\n",
    ")\n",
    "\n",
    "education = table_education[0]\n",
    "education.columns = education.loc[4]\n",
    "education.drop(\n",
    "    labels=[0, 1, 2, 3, 4, 5, 6, 7, 8, 1077, 1078, 1079, 1080, 1081, 1082],\n",
    "    axis=0,\n",
    "    inplace=True,\n",
    ")\n",
    "education = education.loc[:, ~education.columns.duplicated()]\n",
    "education[[\"N_district\", \"N_section\"]] = (\n",
    "    education[\"Dto. SC\"].str.split(\" \", 1, expand=True).astype(\"int\")\n",
    ")\n",
    "education[\"Tag\"] = (\n",
    "    education[\"N_district\"].map(\"{:02d}\".format)\n",
    "    + \"_\"\n",
    "    + education[\"N_section\"].map(\"{:03d}\".format)\n",
    ")\n",
    "education.columns.name = None\n",
    "\n",
    "education.set_index(\"Tag\", inplace=True)\n",
    "\n",
    "education.rename(\n",
    "    {\n",
    "        \"Sin estudios\": \"Education_None\",\n",
    "        \"Estudios primarios / certificado de escolaridad / EGB\": \"Education_Primary_School\",\n",
    "        \"Bachillerato elemental / graduado escolar / ESO / FPI\": \"Education_Middle_School\",\n",
    "        \"Bachillerato superior / BUP / COU / FPII / CFGM grado medio\": \"Education_High_School\",\n",
    "        \"Estudios universitarios / CFGS grado superior\": \"Education_University\",\n",
    "    },\n",
    "    axis=1,\n",
    "    inplace=True,\n",
    ")\n",
    "\n",
    "\n",
    "education.drop(\n",
    "    [\"Dto. SC\", \"N_district\", \"N_section\", \"No consta\"],\n",
    "    axis=1,\n",
    "    inplace=True,\n",
    ")\n",
    "\n",
    "for col in reversed(education.columns):\n",
    "    education[col] = education[col].astype(\"int\").div(education[\"TOTAL\"].astype(\"int\"))\n",
    "\n",
    "education.drop(\n",
    "    [\"TOTAL\"],\n",
    "    axis=1,\n",
    "    inplace=True,\n",
    ")\n",
    "\n",
    "sect = merge_datasets(sect, education)"
   ]
  },
  {
   "cell_type": "markdown",
   "metadata": {},
   "source": [
    "## Country of Origin"
   ]
  },
  {
   "cell_type": "markdown",
   "metadata": {},
   "source": [
    "http://www.bcn.cat/estadistica/castella/dades/tpob/pad/padro/a2017/nacio/nacio11.htm"
   ]
  },
  {
   "cell_type": "code",
   "execution_count": 56,
   "metadata": {},
   "outputs": [],
   "source": [
    "table_nationality = pd.read_html(\n",
    "    f\"https://www.bcn.cat/estadistica/castella/dades/tpob/pad/padro/a{YEAR}/nacio/nacio11.htm\",\n",
    "    thousands=\".\",\n",
    "    decimal=\",\",\n",
    ")\n",
    "\n",
    "nationality = table_nationality[0]\n",
    "nationality.columns = nationality.loc[5]\n",
    "nationality.drop(\n",
    "    labels=[0, 1, 2, 3, 4, 5, 6, 7, 8, 9, 1078, 1079, 1080, 1081],\n",
    "    axis=0,\n",
    "    inplace=True,\n",
    ")\n",
    "nationality = nationality.loc[:, ~nationality.columns.duplicated()]\n",
    "nationality[[\"N_district\", \"N_section\"]] = (\n",
    "    nationality[\"Dto. SC\"].str.split(\" \", 1, expand=True).astype(\"int\")\n",
    ")\n",
    "nationality[\"Tag\"] = (\n",
    "    nationality[\"N_district\"].map(\"{:02d}\".format)\n",
    "    + \"_\"\n",
    "    + nationality[\"N_section\"].map(\"{:03d}\".format)\n",
    ")\n",
    "nationality.columns.name = None\n",
    "\n",
    "nationality.set_index(\"Tag\", inplace=True)\n",
    "\n",
    "nationality.drop(\n",
    "    [\n",
    "        \"Dto. SC\",\n",
    "        \"N_district\",\n",
    "        \"N_section\",\n",
    "        \"Total\",\n",
    "        \"Resto países\",\n",
    "        \"Apátridas / No consta\",\n",
    "    ],\n",
    "    axis=1,\n",
    "    inplace=True,\n",
    ")\n",
    "\n",
    "nationality.dropna(axis=1, inplace=True)\n",
    "nationality = nationality.astype(\"int\")\n",
    "nationality.rename(\n",
    "    {\n",
    "        \"España\": \"Nationality_Spain\",\n",
    "        \"Italia\": \"Nationality_Italy\",\n",
    "        \"Francia\": \"Nationality_France\",\n",
    "        \"Reino Unido\": \"Nationality_UK\",\n",
    "        \"Rumanía\": \"Nationality_Romania\",\n",
    "        \"Alemania\": \"Nationality_Germany\",\n",
    "        \"Rusia\": \"Nationality_Russia\",\n",
    "        \"Ucrania\": \"Nationality_Ucrany\",\n",
    "        \"Portugal\": \"Nationality_Portugal\",\n",
    "        \"Países Bajos\": \"Nationality_Netherlands\",\n",
    "        \"Polonia\": \"Nationality_Poland\",\n",
    "        \"Bulgaria\": \"Nationality_Bulgaria\",\n",
    "        \"Suecia\": \"Nationality_Sweden\",\n",
    "        \"Bélgica\": \"Nationality_Belgium\",\n",
    "        \"Irlanda\": \"Nationality_Ireland\",\n",
    "        \"Grecia\": \"Nationality_Greece\",\n",
    "        \"Marruecos\": \"Nationality_Morocco\",\n",
    "        \"Argelia\": \"Nationality_Argelia\",\n",
    "        \"Senegal\": \"Nationality_Senegal\",\n",
    "        \"Bolivia\": \"Nationality_Bolivia\",\n",
    "        \"Colombia\": \"Nationality_Colombia\",\n",
    "        \"Perú\": \"Nationality_Peru\",\n",
    "        \"Ecuador\": \"Nationality_Ecuador\",\n",
    "        \"Honduras\": \"Nationality_Honduras\",\n",
    "        \"Brasil\": \"Nationality_Brazil\",\n",
    "        \"Venezuela\": \"Nationality_Venezuela\",\n",
    "        \"Argentina\": \"Nationality_Argentina\",\n",
    "        \"República Dominicana\": \"Nationality_Dominican_Republic\",\n",
    "        \"Estados Unidos, los\": \"Nationality_USA\",\n",
    "        \"México\": \"Nationality_Mexico\",\n",
    "        \"Paraguay\": \"Nationality_Paraguay\",\n",
    "        \"Chile\": \"Nationality_Chile\",\n",
    "        \"Cuba\": \"Nationality_Cuba\",\n",
    "        \"Uruguay\": \"Nationality_Uruguay\",\n",
    "        \"el Salvador\": \"Nationality_Salvador\",\n",
    "        \"China\": \"Nationality_China\",\n",
    "        \"Pakistán\": \"Nationality_Pakistan\",\n",
    "        \"Filipinas\": \"Nationality_Philippines\",\n",
    "        \"India\": \"Nationality_India\",\n",
    "        \"Bangladesh\": \"Nationality_Bangladesh\",\n",
    "        \"Georgia\": \"Nationality_Georgia\",\n",
    "        \"Armenia\": \"Nationality_Armenia\",\n",
    "        \"Japón\": \"Nationality_Japan\",\n",
    "        \"Nepal\": \"Nationality_Nepal\",\n",
    "        \"Oceanía\": \"Nationality_Oceania\",\n",
    "    },\n",
    "    axis=1,\n",
    "    inplace=True,\n",
    ")\n",
    "\n",
    "for col in reversed(nationality.columns):\n",
    "    nationality[col] = nationality[col].div(nationality[\"TOTAL\"])\n",
    "\n",
    "nationality.drop([\"TOTAL\"], axis=1, inplace=True)\n",
    "\n",
    "sect = merge_datasets(sect, nationality)"
   ]
  },
  {
   "cell_type": "markdown",
   "metadata": {},
   "source": [
    "# Ministerio de Transportes, Movilidad y Agenda Urbana"
   ]
  },
  {
   "cell_type": "markdown",
   "metadata": {},
   "source": [
    "https://www.mitma.gob.es/vivienda/alquiler/indice-alquiler\n",
    "\n",
    "https://cdn.mitma.gob.es/portal-web-drupal/alquiler/Sistema_Indice_Alquiler_Vivienda.xlsx"
   ]
  },
  {
   "cell_type": "code",
   "execution_count": 57,
   "metadata": {},
   "outputs": [],
   "source": [
    "rent = pd.read_excel(\n",
    "    \"https://cdn.mitma.gob.es/portal-web-drupal/alquiler/Sistema_Indice_Alquiler_Vivienda.xlsx\",\n",
    "    sheet_name=\"SeccionesCensales\",\n",
    "    converters={\"CUDMUN\": str, \"CUSEC\": str},\n",
    ")\n",
    "rent = rent[rent[\"CUDMUN\"] == \"08019\"]\n",
    "rent[\"Tag\"] = rent[\"CUSEC\"].str[5:7] + \"_\" + rent[\"CUSEC\"].str[7:10]\n",
    "rent.set_index(\"Tag\", inplace=True)\n",
    "\n",
    "suffix_year = str(YEAR)[2:4]\n",
    "\n",
    "rent = rent[\n",
    "    [\n",
    "        \"BI_ALVHEPCO_TVC_\" + suffix_year,\n",
    "        \"BI_ALVHEPCO_TVU_\" + suffix_year,\n",
    "        \"ALQM2mes_LV_M_VC_\" + suffix_year,\n",
    "        \"ALQM2mes_LV_M_VU_\" + suffix_year,\n",
    "        \"ALQTBID12_M_VC_\" + suffix_year,\n",
    "        \"ALQTBID12_M_VU_\" + suffix_year,\n",
    "        \"SLVM2_M_VC_\" + suffix_year,\n",
    "        \"SLVM2_M_VU_\" + suffix_year,\n",
    "    ]\n",
    "]\n",
    "\n",
    "rent.rename(\n",
    "    {\n",
    "        \"BI_ALVHEPCO_TVC_\" + suffix_year: \"Rent_Number_Flats\",\n",
    "        \"BI_ALVHEPCO_TVU_\" + suffix_year: \"Rent_Number_Detached\",\n",
    "        \"ALQM2mes_LV_M_VC_\" + suffix_year: \"Rent_Price_Meter_Flats\",\n",
    "        \"ALQM2mes_LV_M_VU_\" + suffix_year: \"Rent_Price_Meter_Detached\",\n",
    "        \"ALQTBID12_M_VC_\" + suffix_year: \"Rent_Price_Total_Flats\",\n",
    "        \"ALQTBID12_M_VU_\" + suffix_year: \"Rent_Price_Total_Detached\",\n",
    "        \"SLVM2_M_VC_\" + suffix_year: \"Rent_Area_Flats\",\n",
    "        \"SLVM2_M_VU_\" + suffix_year: \"Rent_Area_Detached\",\n",
    "    },\n",
    "    axis=1,\n",
    "    inplace=True,\n",
    ")\n",
    "\n",
    "rent.fillna({\"Rent_Number_Flats\": 0, \"Rent_Number_Detached\": 0}, inplace=True)\n",
    "rent[\"Rent_Number_Flats\"] = rent[\"Rent_Number_Flats\"].astype(\"int\")\n",
    "rent[\"Rent_Number_Detached\"] = rent[\"Rent_Number_Detached\"].astype(\"int\")\n",
    "\n",
    "sect = merge_datasets(sect, rent) "
   ]
  },
  {
   "cell_type": "markdown",
   "metadata": {},
   "source": [
    "# Check missing values"
   ]
  },
  {
   "cell_type": "code",
   "execution_count": 58,
   "metadata": {},
   "outputs": [
    {
     "output_type": "execute_result",
     "data": {
      "text/plain": [
       "<AxesSubplot:>"
      ]
     },
     "metadata": {},
     "execution_count": 58
    },
    {
     "output_type": "display_data",
     "data": {
      "text/plain": "<Figure size 1800x720 with 2 Axes>",
      "image/svg+xml": "<?xml version=\"1.0\" encoding=\"utf-8\" standalone=\"no\"?>\n<!DOCTYPE svg PUBLIC \"-//W3C//DTD SVG 1.1//EN\"\n  \"http://www.w3.org/Graphics/SVG/1.1/DTD/svg11.dtd\">\n<svg height=\"576.847261pt\" version=\"1.1\" viewBox=\"0 0 1485.115 576.847261\" width=\"1485.115pt\" xmlns=\"http://www.w3.org/2000/svg\" xmlns:xlink=\"http://www.w3.org/1999/xlink\">\n <metadata>\n  <rdf:RDF xmlns:cc=\"http://creativecommons.org/ns#\" xmlns:dc=\"http://purl.org/dc/elements/1.1/\" xmlns:rdf=\"http://www.w3.org/1999/02/22-rdf-syntax-ns#\">\n   <cc:Work>\n    <dc:type rdf:resource=\"http://purl.org/dc/dcmitype/StillImage\"/>\n    <dc:date>2021-05-17T19:32:50.818274</dc:date>\n    <dc:format>image/svg+xml</dc:format>\n    <dc:creator>\n     <cc:Agent>\n      <dc:title>Matplotlib v3.4.1, https://matplotlib.org/</dc:title>\n     </cc:Agent>\n    </dc:creator>\n   </cc:Work>\n  </rdf:RDF>\n </metadata>\n <defs>\n  <style type=\"text/css\">*{stroke-linecap:butt;stroke-linejoin:round;}</style>\n </defs>\n <g id=\"figure_1\">\n  <g id=\"patch_1\">\n   <path d=\"M 0 576.847261 \nL 1485.115 576.847261 \nL 1485.115 0 \nL 0 0 \nz\n\"/>\n  </g>\n  <g id=\"axes_1\">\n   <g id=\"patch_2\">\n    <path d=\"M 1376.265865 558.143943 \nL 1460.1 558.143943 \nL 1460.1 14.543943 \nL 1376.265865 14.543943 \nz\n\" style=\"fill:#ffffff;\"/>\n   </g>\n   <g id=\"matplotlib.axis_1\"/>\n   <g id=\"matplotlib.axis_2\"/>\n   <g id=\"line2d_1\">\n    <path clip-path=\"url(#pac35592e52)\" d=\"M 1390.238221 558.143943 \nL 1390.238221 556.615546 \nL 1425.169111 556.10608 \nL 1425.169111 531.651722 \nL 1446.127644 531.142256 \nL 1425.169111 530.63279 \nL 1425.169111 529.104393 \nL 1446.127644 528.594927 \nL 1425.169111 528.085461 \nL 1425.169111 513.820419 \nL 1446.127644 513.310953 \nL 1425.169111 512.801488 \nL 1425.169111 510.763624 \nL 1446.127644 510.254159 \nL 1425.169111 509.744693 \nL 1425.169111 485.290335 \nL 1446.127644 484.780869 \nL 1425.169111 484.271403 \nL 1425.169111 483.761937 \nL 1390.238221 483.252472 \nL 1425.169111 482.743006 \nL 1425.169111 477.648348 \nL 1446.127644 477.138882 \nL 1425.169111 476.629416 \nL 1425.169111 462.87384 \nL 1404.210577 462.364374 \nL 1425.169111 461.854908 \nL 1425.169111 460.835977 \nL 1446.127644 460.326511 \nL 1425.169111 459.817045 \nL 1425.169111 458.798114 \nL 1446.127644 458.288648 \nL 1446.127644 457.779182 \nL 1425.169111 457.269716 \nL 1446.127644 456.760251 \nL 1446.127644 456.250785 \nL 1425.169111 455.741319 \nL 1446.127644 455.231853 \nL 1446.127644 454.722387 \nL 1425.169111 454.212922 \nL 1425.169111 446.570935 \nL 1446.127644 446.061469 \nL 1446.127644 445.552003 \nL 1425.169111 445.042537 \nL 1425.169111 440.966811 \nL 1404.210577 440.457345 \nL 1425.169111 439.947879 \nL 1425.169111 438.928948 \nL 1404.210577 438.419482 \nL 1425.169111 437.910016 \nL 1425.169111 435.872153 \nL 1446.127644 435.362687 \nL 1390.238221 434.853221 \nL 1425.169111 434.343756 \nL 1425.169111 408.870466 \nL 1446.127644 408.361 \nL 1425.169111 407.851534 \nL 1425.169111 400.209548 \nL 1404.210577 399.700082 \nL 1425.169111 399.190616 \nL 1425.169111 384.416108 \nL 1446.127644 383.906642 \nL 1425.169111 383.397176 \nL 1425.169111 372.698395 \nL 1446.127644 372.188929 \nL 1425.169111 371.679463 \nL 1425.169111 371.169997 \nL 1446.127644 370.660532 \nL 1446.127644 370.151066 \nL 1425.169111 369.6416 \nL 1425.169111 365.565874 \nL 1446.127644 365.056408 \nL 1425.169111 364.546942 \nL 1425.169111 343.658845 \nL 1446.127644 343.149379 \nL 1446.127644 341.111516 \nL 1425.169111 340.60205 \nL 1446.127644 340.092584 \nL 1425.169111 339.583118 \nL 1425.169111 334.997926 \nL 1446.127644 334.48846 \nL 1425.169111 333.978995 \nL 1425.169111 326.337008 \nL 1446.127644 325.827542 \nL 1425.169111 325.318076 \nL 1446.127644 324.80861 \nL 1425.169111 324.299145 \nL 1425.169111 296.787992 \nL 1446.127644 296.278526 \nL 1425.169111 295.76906 \nL 1425.169111 287.617608 \nL 1446.127644 287.108142 \nL 1425.169111 286.598676 \nL 1425.169111 279.466155 \nL 1446.127644 278.956689 \nL 1425.169111 278.447223 \nL 1425.169111 272.8431 \nL 1446.127644 272.333634 \nL 1425.169111 271.824168 \nL 1425.169111 235.652097 \nL 1446.127644 235.142631 \nL 1446.127644 234.633165 \nL 1425.169111 234.123699 \nL 1425.169111 220.877589 \nL 1446.127644 220.368123 \nL 1446.127644 219.349191 \nL 1425.169111 218.839726 \nL 1390.238221 218.33026 \nL 1446.127644 217.820794 \nL 1425.169111 217.311328 \nL 1425.169111 189.800176 \nL 1390.238221 189.29071 \nL 1390.238221 188.271778 \nL 1425.169111 187.762312 \nL 1425.169111 167.383681 \nL 1446.127644 166.874215 \nL 1425.169111 166.364749 \nL 1425.169111 142.419857 \nL 1446.127644 141.910391 \nL 1425.169111 141.400925 \nL 1425.169111 89.435415 \nL 1446.127644 88.925949 \nL 1425.169111 88.416483 \nL 1425.169111 14.543943 \nL 1425.169111 14.543943 \n\" style=\"fill:none;stroke:#404040;stroke-linecap:square;stroke-width:1.5;\"/>\n   </g>\n   <g id=\"line2d_2\">\n    <defs>\n     <path d=\"M 0 2.5 \nC 0.663008 2.5 1.29895 2.236584 1.767767 1.767767 \nC 2.236584 1.29895 2.5 0.663008 2.5 0 \nC 2.5 -0.663008 2.236584 -1.29895 1.767767 -1.767767 \nC 1.29895 -2.236584 0.663008 -2.5 0 -2.5 \nC -0.663008 -2.5 -1.29895 -2.236584 -1.767767 -1.767767 \nC -2.236584 -1.29895 -2.5 -0.663008 -2.5 0 \nC -2.5 0.663008 -2.236584 1.29895 -1.767767 1.767767 \nC -1.29895 2.236584 -0.663008 2.5 0 2.5 \nz\n\" id=\"mb1998cb388\" style=\"stroke:#404040;\"/>\n    </defs>\n    <g clip-path=\"url(#pac35592e52)\">\n     <use style=\"fill:#404040;stroke:#404040;\" x=\"1390.238221\" xlink:href=\"#mb1998cb388\" y=\"558.143943\"/>\n    </g>\n   </g>\n   <g id=\"line2d_3\">\n    <g clip-path=\"url(#pac35592e52)\">\n     <use style=\"fill:#404040;stroke:#404040;\" x=\"1446.127644\" xlink:href=\"#mb1998cb388\" y=\"531.142256\"/>\n    </g>\n   </g>\n   <g id=\"text_1\">\n    <!-- 87 -->\n    <g style=\"fill:#ffffff;\" transform=\"translate(1460.1 535.005381)scale(0.14 -0.14)\">\n     <defs>\n      <path d=\"M 2034 2216 \nQ 1584 2216 1326 1975 \nQ 1069 1734 1069 1313 \nQ 1069 891 1326 650 \nQ 1584 409 2034 409 \nQ 2484 409 2743 651 \nQ 3003 894 3003 1313 \nQ 3003 1734 2745 1975 \nQ 2488 2216 2034 2216 \nz\nM 1403 2484 \nQ 997 2584 770 2862 \nQ 544 3141 544 3541 \nQ 544 4100 942 4425 \nQ 1341 4750 2034 4750 \nQ 2731 4750 3128 4425 \nQ 3525 4100 3525 3541 \nQ 3525 3141 3298 2862 \nQ 3072 2584 2669 2484 \nQ 3125 2378 3379 2068 \nQ 3634 1759 3634 1313 \nQ 3634 634 3220 271 \nQ 2806 -91 2034 -91 \nQ 1263 -91 848 271 \nQ 434 634 434 1313 \nQ 434 1759 690 2068 \nQ 947 2378 1403 2484 \nz\nM 1172 3481 \nQ 1172 3119 1398 2916 \nQ 1625 2713 2034 2713 \nQ 2441 2713 2670 2916 \nQ 2900 3119 2900 3481 \nQ 2900 3844 2670 4047 \nQ 2441 4250 2034 4250 \nQ 1625 4250 1398 4047 \nQ 1172 3844 1172 3481 \nz\n\" id=\"DejaVuSans-38\" transform=\"scale(0.015625)\"/>\n      <path d=\"M 525 4666 \nL 3525 4666 \nL 3525 4397 \nL 1831 0 \nL 1172 0 \nL 2766 4134 \nL 525 4134 \nL 525 4666 \nz\n\" id=\"DejaVuSans-37\" transform=\"scale(0.015625)\"/>\n     </defs>\n     <use xlink:href=\"#DejaVuSans-38\"/>\n     <use x=\"63.623047\" xlink:href=\"#DejaVuSans-37\"/>\n    </g>\n   </g>\n   <g id=\"text_2\">\n    <!-- 79 -->\n    <g style=\"fill:#ffffff;\" transform=\"translate(1358.450865 562.007068)scale(0.14 -0.14)\">\n     <defs>\n      <path d=\"M 703 97 \nL 703 672 \nQ 941 559 1184 500 \nQ 1428 441 1663 441 \nQ 2288 441 2617 861 \nQ 2947 1281 2994 2138 \nQ 2813 1869 2534 1725 \nQ 2256 1581 1919 1581 \nQ 1219 1581 811 2004 \nQ 403 2428 403 3163 \nQ 403 3881 828 4315 \nQ 1253 4750 1959 4750 \nQ 2769 4750 3195 4129 \nQ 3622 3509 3622 2328 \nQ 3622 1225 3098 567 \nQ 2575 -91 1691 -91 \nQ 1453 -91 1209 -44 \nQ 966 3 703 97 \nz\nM 1959 2075 \nQ 2384 2075 2632 2365 \nQ 2881 2656 2881 3163 \nQ 2881 3666 2632 3958 \nQ 2384 4250 1959 4250 \nQ 1534 4250 1286 3958 \nQ 1038 3666 1038 3163 \nQ 1038 2656 1286 2365 \nQ 1534 2075 1959 2075 \nz\n\" id=\"DejaVuSans-39\" transform=\"scale(0.015625)\"/>\n     </defs>\n     <use xlink:href=\"#DejaVuSans-37\"/>\n     <use x=\"63.623047\" xlink:href=\"#DejaVuSans-39\"/>\n    </g>\n   </g>\n  </g>\n  <g id=\"axes_2\">\n   <g id=\"patch_3\">\n    <path d=\"M 65.1 558.143943 \nL 1322.612019 558.143943 \nL 1322.612019 14.543943 \nL 65.1 14.543943 \nz\n\"/>\n   </g>\n   <g clip-path=\"url(#p85081edcf8)\">\n    <image height=\"1068\" id=\"image06867d3140\" style=\"image-rendering:crisp-edges;image-rendering:pixelated\" transform=\"matrix(14.45977 0 0 0.509363 65.1 14.143943)\" width=\"87\" xlink:href=\"data:image/png;base64,\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\"/>\n   </g>\n   <g id=\"matplotlib.axis_3\"/>\n   <g id=\"matplotlib.axis_4\">\n    <g id=\"ytick_1\">\n     <g id=\"text_3\">\n      <!-- 1 -->\n      <g style=\"fill:#ffffff;\" transform=\"translate(45.375 22.396875)scale(0.2 -0.2)\">\n       <defs>\n        <path d=\"M 794 531 \nL 1825 531 \nL 1825 4091 \nL 703 3866 \nL 703 4441 \nL 1819 4666 \nL 2450 4666 \nL 2450 531 \nL 3481 531 \nL 3481 0 \nL 794 0 \nL 794 531 \nz\n\" id=\"DejaVuSans-31\" transform=\"scale(0.015625)\"/>\n       </defs>\n       <use xlink:href=\"#DejaVuSans-31\"/>\n      </g>\n     </g>\n    </g>\n    <g id=\"ytick_2\">\n     <g id=\"text_4\">\n      <!-- 1068 -->\n      <g style=\"fill:#ffffff;\" transform=\"translate(7.2 565.487886)scale(0.2 -0.2)\">\n       <defs>\n        <path d=\"M 2034 4250 \nQ 1547 4250 1301 3770 \nQ 1056 3291 1056 2328 \nQ 1056 1369 1301 889 \nQ 1547 409 2034 409 \nQ 2525 409 2770 889 \nQ 3016 1369 3016 2328 \nQ 3016 3291 2770 3770 \nQ 2525 4250 2034 4250 \nz\nM 2034 4750 \nQ 2819 4750 3233 4129 \nQ 3647 3509 3647 2328 \nQ 3647 1150 3233 529 \nQ 2819 -91 2034 -91 \nQ 1250 -91 836 529 \nQ 422 1150 422 2328 \nQ 422 3509 836 4129 \nQ 1250 4750 2034 4750 \nz\n\" id=\"DejaVuSans-30\" transform=\"scale(0.015625)\"/>\n        <path d=\"M 2113 2584 \nQ 1688 2584 1439 2293 \nQ 1191 2003 1191 1497 \nQ 1191 994 1439 701 \nQ 1688 409 2113 409 \nQ 2538 409 2786 701 \nQ 3034 994 3034 1497 \nQ 3034 2003 2786 2293 \nQ 2538 2584 2113 2584 \nz\nM 3366 4563 \nL 3366 3988 \nQ 3128 4100 2886 4159 \nQ 2644 4219 2406 4219 \nQ 1781 4219 1451 3797 \nQ 1122 3375 1075 2522 \nQ 1259 2794 1537 2939 \nQ 1816 3084 2150 3084 \nQ 2853 3084 3261 2657 \nQ 3669 2231 3669 1497 \nQ 3669 778 3244 343 \nQ 2819 -91 2113 -91 \nQ 1303 -91 875 529 \nQ 447 1150 447 2328 \nQ 447 3434 972 4092 \nQ 1497 4750 2381 4750 \nQ 2619 4750 2861 4703 \nQ 3103 4656 3366 4563 \nz\n\" id=\"DejaVuSans-36\" transform=\"scale(0.015625)\"/>\n       </defs>\n       <use xlink:href=\"#DejaVuSans-31\"/>\n       <use x=\"63.623047\" xlink:href=\"#DejaVuSans-30\"/>\n       <use x=\"127.246094\" xlink:href=\"#DejaVuSans-36\"/>\n       <use x=\"190.869141\" xlink:href=\"#DejaVuSans-38\"/>\n      </g>\n     </g>\n    </g>\n   </g>\n   <g id=\"line2d_4\">\n    <path clip-path=\"url(#p85081edcf8)\" d=\"M 79.554161 558.143943 \nL 79.554161 14.543943 \n\" style=\"fill:none;stroke:#ffffff;stroke-linecap:square;stroke-width:1.5;\"/>\n   </g>\n   <g id=\"line2d_5\">\n    <path clip-path=\"url(#p85081edcf8)\" d=\"M 94.008322 558.143943 \nL 94.008322 14.543943 \n\" style=\"fill:none;stroke:#ffffff;stroke-linecap:square;stroke-width:1.5;\"/>\n   </g>\n   <g id=\"line2d_6\">\n    <path clip-path=\"url(#p85081edcf8)\" d=\"M 108.462483 558.143943 \nL 108.462483 14.543943 \n\" style=\"fill:none;stroke:#ffffff;stroke-linecap:square;stroke-width:1.5;\"/>\n   </g>\n   <g id=\"line2d_7\">\n    <path clip-path=\"url(#p85081edcf8)\" d=\"M 122.916645 558.143943 \nL 122.916645 14.543943 \n\" style=\"fill:none;stroke:#ffffff;stroke-linecap:square;stroke-width:1.5;\"/>\n   </g>\n   <g id=\"line2d_8\">\n    <path clip-path=\"url(#p85081edcf8)\" d=\"M 137.370806 558.143943 \nL 137.370806 14.543943 \n\" style=\"fill:none;stroke:#ffffff;stroke-linecap:square;stroke-width:1.5;\"/>\n   </g>\n   <g id=\"line2d_9\">\n    <path clip-path=\"url(#p85081edcf8)\" d=\"M 151.824967 558.143943 \nL 151.824967 14.543943 \n\" style=\"fill:none;stroke:#ffffff;stroke-linecap:square;stroke-width:1.5;\"/>\n   </g>\n   <g id=\"line2d_10\">\n    <path clip-path=\"url(#p85081edcf8)\" d=\"M 166.279128 558.143943 \nL 166.279128 14.543943 \n\" style=\"fill:none;stroke:#ffffff;stroke-linecap:square;stroke-width:1.5;\"/>\n   </g>\n   <g id=\"line2d_11\">\n    <path clip-path=\"url(#p85081edcf8)\" d=\"M 180.733289 558.143943 \nL 180.733289 14.543943 \n\" style=\"fill:none;stroke:#ffffff;stroke-linecap:square;stroke-width:1.5;\"/>\n   </g>\n   <g id=\"line2d_12\">\n    <path clip-path=\"url(#p85081edcf8)\" d=\"M 195.18745 558.143943 \nL 195.18745 14.543943 \n\" style=\"fill:none;stroke:#ffffff;stroke-linecap:square;stroke-width:1.5;\"/>\n   </g>\n   <g id=\"line2d_13\">\n    <path clip-path=\"url(#p85081edcf8)\" d=\"M 209.641611 558.143943 \nL 209.641611 14.543943 \n\" style=\"fill:none;stroke:#ffffff;stroke-linecap:square;stroke-width:1.5;\"/>\n   </g>\n   <g id=\"line2d_14\">\n    <path clip-path=\"url(#p85081edcf8)\" d=\"M 224.095773 558.143943 \nL 224.095773 14.543943 \n\" style=\"fill:none;stroke:#ffffff;stroke-linecap:square;stroke-width:1.5;\"/>\n   </g>\n   <g id=\"line2d_15\">\n    <path clip-path=\"url(#p85081edcf8)\" d=\"M 238.549934 558.143943 \nL 238.549934 14.543943 \n\" style=\"fill:none;stroke:#ffffff;stroke-linecap:square;stroke-width:1.5;\"/>\n   </g>\n   <g id=\"line2d_16\">\n    <path clip-path=\"url(#p85081edcf8)\" d=\"M 253.004095 558.143943 \nL 253.004095 14.543943 \n\" style=\"fill:none;stroke:#ffffff;stroke-linecap:square;stroke-width:1.5;\"/>\n   </g>\n   <g id=\"line2d_17\">\n    <path clip-path=\"url(#p85081edcf8)\" d=\"M 267.458256 558.143943 \nL 267.458256 14.543943 \n\" style=\"fill:none;stroke:#ffffff;stroke-linecap:square;stroke-width:1.5;\"/>\n   </g>\n   <g id=\"line2d_18\">\n    <path clip-path=\"url(#p85081edcf8)\" d=\"M 281.912417 558.143943 \nL 281.912417 14.543943 \n\" style=\"fill:none;stroke:#ffffff;stroke-linecap:square;stroke-width:1.5;\"/>\n   </g>\n   <g id=\"line2d_19\">\n    <path clip-path=\"url(#p85081edcf8)\" d=\"M 296.366578 558.143943 \nL 296.366578 14.543943 \n\" style=\"fill:none;stroke:#ffffff;stroke-linecap:square;stroke-width:1.5;\"/>\n   </g>\n   <g id=\"line2d_20\">\n    <path clip-path=\"url(#p85081edcf8)\" d=\"M 310.820739 558.143943 \nL 310.820739 14.543943 \n\" style=\"fill:none;stroke:#ffffff;stroke-linecap:square;stroke-width:1.5;\"/>\n   </g>\n   <g id=\"line2d_21\">\n    <path clip-path=\"url(#p85081edcf8)\" d=\"M 325.274901 558.143943 \nL 325.274901 14.543943 \n\" style=\"fill:none;stroke:#ffffff;stroke-linecap:square;stroke-width:1.5;\"/>\n   </g>\n   <g id=\"line2d_22\">\n    <path clip-path=\"url(#p85081edcf8)\" d=\"M 339.729062 558.143943 \nL 339.729062 14.543943 \n\" style=\"fill:none;stroke:#ffffff;stroke-linecap:square;stroke-width:1.5;\"/>\n   </g>\n   <g id=\"line2d_23\">\n    <path clip-path=\"url(#p85081edcf8)\" d=\"M 354.183223 558.143943 \nL 354.183223 14.543943 \n\" style=\"fill:none;stroke:#ffffff;stroke-linecap:square;stroke-width:1.5;\"/>\n   </g>\n   <g id=\"line2d_24\">\n    <path clip-path=\"url(#p85081edcf8)\" d=\"M 368.637384 558.143943 \nL 368.637384 14.543943 \n\" style=\"fill:none;stroke:#ffffff;stroke-linecap:square;stroke-width:1.5;\"/>\n   </g>\n   <g id=\"line2d_25\">\n    <path clip-path=\"url(#p85081edcf8)\" d=\"M 383.091545 558.143943 \nL 383.091545 14.543943 \n\" style=\"fill:none;stroke:#ffffff;stroke-linecap:square;stroke-width:1.5;\"/>\n   </g>\n   <g id=\"line2d_26\">\n    <path clip-path=\"url(#p85081edcf8)\" d=\"M 397.545706 558.143943 \nL 397.545706 14.543943 \n\" style=\"fill:none;stroke:#ffffff;stroke-linecap:square;stroke-width:1.5;\"/>\n   </g>\n   <g id=\"line2d_27\">\n    <path clip-path=\"url(#p85081edcf8)\" d=\"M 411.999867 558.143943 \nL 411.999867 14.543943 \n\" style=\"fill:none;stroke:#ffffff;stroke-linecap:square;stroke-width:1.5;\"/>\n   </g>\n   <g id=\"line2d_28\">\n    <path clip-path=\"url(#p85081edcf8)\" d=\"M 426.454029 558.143943 \nL 426.454029 14.543943 \n\" style=\"fill:none;stroke:#ffffff;stroke-linecap:square;stroke-width:1.5;\"/>\n   </g>\n   <g id=\"line2d_29\">\n    <path clip-path=\"url(#p85081edcf8)\" d=\"M 440.90819 558.143943 \nL 440.90819 14.543943 \n\" style=\"fill:none;stroke:#ffffff;stroke-linecap:square;stroke-width:1.5;\"/>\n   </g>\n   <g id=\"line2d_30\">\n    <path clip-path=\"url(#p85081edcf8)\" d=\"M 455.362351 558.143943 \nL 455.362351 14.543943 \n\" style=\"fill:none;stroke:#ffffff;stroke-linecap:square;stroke-width:1.5;\"/>\n   </g>\n   <g id=\"line2d_31\">\n    <path clip-path=\"url(#p85081edcf8)\" d=\"M 469.816512 558.143943 \nL 469.816512 14.543943 \n\" style=\"fill:none;stroke:#ffffff;stroke-linecap:square;stroke-width:1.5;\"/>\n   </g>\n   <g id=\"line2d_32\">\n    <path clip-path=\"url(#p85081edcf8)\" d=\"M 484.270673 558.143943 \nL 484.270673 14.543943 \n\" style=\"fill:none;stroke:#ffffff;stroke-linecap:square;stroke-width:1.5;\"/>\n   </g>\n   <g id=\"line2d_33\">\n    <path clip-path=\"url(#p85081edcf8)\" d=\"M 498.724834 558.143943 \nL 498.724834 14.543943 \n\" style=\"fill:none;stroke:#ffffff;stroke-linecap:square;stroke-width:1.5;\"/>\n   </g>\n   <g id=\"line2d_34\">\n    <path clip-path=\"url(#p85081edcf8)\" d=\"M 513.178995 558.143943 \nL 513.178995 14.543943 \n\" style=\"fill:none;stroke:#ffffff;stroke-linecap:square;stroke-width:1.5;\"/>\n   </g>\n   <g id=\"line2d_35\">\n    <path clip-path=\"url(#p85081edcf8)\" d=\"M 527.633156 558.143943 \nL 527.633156 14.543943 \n\" style=\"fill:none;stroke:#ffffff;stroke-linecap:square;stroke-width:1.5;\"/>\n   </g>\n   <g id=\"line2d_36\">\n    <path clip-path=\"url(#p85081edcf8)\" d=\"M 542.087318 558.143943 \nL 542.087318 14.543943 \n\" style=\"fill:none;stroke:#ffffff;stroke-linecap:square;stroke-width:1.5;\"/>\n   </g>\n   <g id=\"line2d_37\">\n    <path clip-path=\"url(#p85081edcf8)\" d=\"M 556.541479 558.143943 \nL 556.541479 14.543943 \n\" style=\"fill:none;stroke:#ffffff;stroke-linecap:square;stroke-width:1.5;\"/>\n   </g>\n   <g id=\"line2d_38\">\n    <path clip-path=\"url(#p85081edcf8)\" d=\"M 570.99564 558.143943 \nL 570.99564 14.543943 \n\" style=\"fill:none;stroke:#ffffff;stroke-linecap:square;stroke-width:1.5;\"/>\n   </g>\n   <g id=\"line2d_39\">\n    <path clip-path=\"url(#p85081edcf8)\" d=\"M 585.449801 558.143943 \nL 585.449801 14.543943 \n\" style=\"fill:none;stroke:#ffffff;stroke-linecap:square;stroke-width:1.5;\"/>\n   </g>\n   <g id=\"line2d_40\">\n    <path clip-path=\"url(#p85081edcf8)\" d=\"M 599.903962 558.143943 \nL 599.903962 14.543943 \n\" style=\"fill:none;stroke:#ffffff;stroke-linecap:square;stroke-width:1.5;\"/>\n   </g>\n   <g id=\"line2d_41\">\n    <path clip-path=\"url(#p85081edcf8)\" d=\"M 614.358123 558.143943 \nL 614.358123 14.543943 \n\" style=\"fill:none;stroke:#ffffff;stroke-linecap:square;stroke-width:1.5;\"/>\n   </g>\n   <g id=\"line2d_42\">\n    <path clip-path=\"url(#p85081edcf8)\" d=\"M 628.812284 558.143943 \nL 628.812284 14.543943 \n\" style=\"fill:none;stroke:#ffffff;stroke-linecap:square;stroke-width:1.5;\"/>\n   </g>\n   <g id=\"line2d_43\">\n    <path clip-path=\"url(#p85081edcf8)\" d=\"M 643.266446 558.143943 \nL 643.266446 14.543943 \n\" style=\"fill:none;stroke:#ffffff;stroke-linecap:square;stroke-width:1.5;\"/>\n   </g>\n   <g id=\"line2d_44\">\n    <path clip-path=\"url(#p85081edcf8)\" d=\"M 657.720607 558.143943 \nL 657.720607 14.543943 \n\" style=\"fill:none;stroke:#ffffff;stroke-linecap:square;stroke-width:1.5;\"/>\n   </g>\n   <g id=\"line2d_45\">\n    <path clip-path=\"url(#p85081edcf8)\" d=\"M 672.174768 558.143943 \nL 672.174768 14.543943 \n\" style=\"fill:none;stroke:#ffffff;stroke-linecap:square;stroke-width:1.5;\"/>\n   </g>\n   <g id=\"line2d_46\">\n    <path clip-path=\"url(#p85081edcf8)\" d=\"M 686.628929 558.143943 \nL 686.628929 14.543943 \n\" style=\"fill:none;stroke:#ffffff;stroke-linecap:square;stroke-width:1.5;\"/>\n   </g>\n   <g id=\"line2d_47\">\n    <path clip-path=\"url(#p85081edcf8)\" d=\"M 701.08309 558.143943 \nL 701.08309 14.543943 \n\" style=\"fill:none;stroke:#ffffff;stroke-linecap:square;stroke-width:1.5;\"/>\n   </g>\n   <g id=\"line2d_48\">\n    <path clip-path=\"url(#p85081edcf8)\" d=\"M 715.537251 558.143943 \nL 715.537251 14.543943 \n\" style=\"fill:none;stroke:#ffffff;stroke-linecap:square;stroke-width:1.5;\"/>\n   </g>\n   <g id=\"line2d_49\">\n    <path clip-path=\"url(#p85081edcf8)\" d=\"M 729.991412 558.143943 \nL 729.991412 14.543943 \n\" style=\"fill:none;stroke:#ffffff;stroke-linecap:square;stroke-width:1.5;\"/>\n   </g>\n   <g id=\"line2d_50\">\n    <path clip-path=\"url(#p85081edcf8)\" d=\"M 744.445574 558.143943 \nL 744.445574 14.543943 \n\" style=\"fill:none;stroke:#ffffff;stroke-linecap:square;stroke-width:1.5;\"/>\n   </g>\n   <g id=\"line2d_51\">\n    <path clip-path=\"url(#p85081edcf8)\" d=\"M 758.899735 558.143943 \nL 758.899735 14.543943 \n\" style=\"fill:none;stroke:#ffffff;stroke-linecap:square;stroke-width:1.5;\"/>\n   </g>\n   <g id=\"line2d_52\">\n    <path clip-path=\"url(#p85081edcf8)\" d=\"M 773.353896 558.143943 \nL 773.353896 14.543943 \n\" style=\"fill:none;stroke:#ffffff;stroke-linecap:square;stroke-width:1.5;\"/>\n   </g>\n   <g id=\"line2d_53\">\n    <path clip-path=\"url(#p85081edcf8)\" d=\"M 787.808057 558.143943 \nL 787.808057 14.543943 \n\" style=\"fill:none;stroke:#ffffff;stroke-linecap:square;stroke-width:1.5;\"/>\n   </g>\n   <g id=\"line2d_54\">\n    <path clip-path=\"url(#p85081edcf8)\" d=\"M 802.262218 558.143943 \nL 802.262218 14.543943 \n\" style=\"fill:none;stroke:#ffffff;stroke-linecap:square;stroke-width:1.5;\"/>\n   </g>\n   <g id=\"line2d_55\">\n    <path clip-path=\"url(#p85081edcf8)\" d=\"M 816.716379 558.143943 \nL 816.716379 14.543943 \n\" style=\"fill:none;stroke:#ffffff;stroke-linecap:square;stroke-width:1.5;\"/>\n   </g>\n   <g id=\"line2d_56\">\n    <path clip-path=\"url(#p85081edcf8)\" d=\"M 831.17054 558.143943 \nL 831.17054 14.543943 \n\" style=\"fill:none;stroke:#ffffff;stroke-linecap:square;stroke-width:1.5;\"/>\n   </g>\n   <g id=\"line2d_57\">\n    <path clip-path=\"url(#p85081edcf8)\" d=\"M 845.624702 558.143943 \nL 845.624702 14.543943 \n\" style=\"fill:none;stroke:#ffffff;stroke-linecap:square;stroke-width:1.5;\"/>\n   </g>\n   <g id=\"line2d_58\">\n    <path clip-path=\"url(#p85081edcf8)\" d=\"M 860.078863 558.143943 \nL 860.078863 14.543943 \n\" style=\"fill:none;stroke:#ffffff;stroke-linecap:square;stroke-width:1.5;\"/>\n   </g>\n   <g id=\"line2d_59\">\n    <path clip-path=\"url(#p85081edcf8)\" d=\"M 874.533024 558.143943 \nL 874.533024 14.543943 \n\" style=\"fill:none;stroke:#ffffff;stroke-linecap:square;stroke-width:1.5;\"/>\n   </g>\n   <g id=\"line2d_60\">\n    <path clip-path=\"url(#p85081edcf8)\" d=\"M 888.987185 558.143943 \nL 888.987185 14.543943 \n\" style=\"fill:none;stroke:#ffffff;stroke-linecap:square;stroke-width:1.5;\"/>\n   </g>\n   <g id=\"line2d_61\">\n    <path clip-path=\"url(#p85081edcf8)\" d=\"M 903.441346 558.143943 \nL 903.441346 14.543943 \n\" style=\"fill:none;stroke:#ffffff;stroke-linecap:square;stroke-width:1.5;\"/>\n   </g>\n   <g id=\"line2d_62\">\n    <path clip-path=\"url(#p85081edcf8)\" d=\"M 917.895507 558.143943 \nL 917.895507 14.543943 \n\" style=\"fill:none;stroke:#ffffff;stroke-linecap:square;stroke-width:1.5;\"/>\n   </g>\n   <g id=\"line2d_63\">\n    <path clip-path=\"url(#p85081edcf8)\" d=\"M 932.349668 558.143943 \nL 932.349668 14.543943 \n\" style=\"fill:none;stroke:#ffffff;stroke-linecap:square;stroke-width:1.5;\"/>\n   </g>\n   <g id=\"line2d_64\">\n    <path clip-path=\"url(#p85081edcf8)\" d=\"M 946.80383 558.143943 \nL 946.80383 14.543943 \n\" style=\"fill:none;stroke:#ffffff;stroke-linecap:square;stroke-width:1.5;\"/>\n   </g>\n   <g id=\"line2d_65\">\n    <path clip-path=\"url(#p85081edcf8)\" d=\"M 961.257991 558.143943 \nL 961.257991 14.543943 \n\" style=\"fill:none;stroke:#ffffff;stroke-linecap:square;stroke-width:1.5;\"/>\n   </g>\n   <g id=\"line2d_66\">\n    <path clip-path=\"url(#p85081edcf8)\" d=\"M 975.712152 558.143943 \nL 975.712152 14.543943 \n\" style=\"fill:none;stroke:#ffffff;stroke-linecap:square;stroke-width:1.5;\"/>\n   </g>\n   <g id=\"line2d_67\">\n    <path clip-path=\"url(#p85081edcf8)\" d=\"M 990.166313 558.143943 \nL 990.166313 14.543943 \n\" style=\"fill:none;stroke:#ffffff;stroke-linecap:square;stroke-width:1.5;\"/>\n   </g>\n   <g id=\"line2d_68\">\n    <path clip-path=\"url(#p85081edcf8)\" d=\"M 1004.620474 558.143943 \nL 1004.620474 14.543943 \n\" style=\"fill:none;stroke:#ffffff;stroke-linecap:square;stroke-width:1.5;\"/>\n   </g>\n   <g id=\"line2d_69\">\n    <path clip-path=\"url(#p85081edcf8)\" d=\"M 1019.074635 558.143943 \nL 1019.074635 14.543943 \n\" style=\"fill:none;stroke:#ffffff;stroke-linecap:square;stroke-width:1.5;\"/>\n   </g>\n   <g id=\"line2d_70\">\n    <path clip-path=\"url(#p85081edcf8)\" d=\"M 1033.528796 558.143943 \nL 1033.528796 14.543943 \n\" style=\"fill:none;stroke:#ffffff;stroke-linecap:square;stroke-width:1.5;\"/>\n   </g>\n   <g id=\"line2d_71\">\n    <path clip-path=\"url(#p85081edcf8)\" d=\"M 1047.982958 558.143943 \nL 1047.982958 14.543943 \n\" style=\"fill:none;stroke:#ffffff;stroke-linecap:square;stroke-width:1.5;\"/>\n   </g>\n   <g id=\"line2d_72\">\n    <path clip-path=\"url(#p85081edcf8)\" d=\"M 1062.437119 558.143943 \nL 1062.437119 14.543943 \n\" style=\"fill:none;stroke:#ffffff;stroke-linecap:square;stroke-width:1.5;\"/>\n   </g>\n   <g id=\"line2d_73\">\n    <path clip-path=\"url(#p85081edcf8)\" d=\"M 1076.89128 558.143943 \nL 1076.89128 14.543943 \n\" style=\"fill:none;stroke:#ffffff;stroke-linecap:square;stroke-width:1.5;\"/>\n   </g>\n   <g id=\"line2d_74\">\n    <path clip-path=\"url(#p85081edcf8)\" d=\"M 1091.345441 558.143943 \nL 1091.345441 14.543943 \n\" style=\"fill:none;stroke:#ffffff;stroke-linecap:square;stroke-width:1.5;\"/>\n   </g>\n   <g id=\"line2d_75\">\n    <path clip-path=\"url(#p85081edcf8)\" d=\"M 1105.799602 558.143943 \nL 1105.799602 14.543943 \n\" style=\"fill:none;stroke:#ffffff;stroke-linecap:square;stroke-width:1.5;\"/>\n   </g>\n   <g id=\"line2d_76\">\n    <path clip-path=\"url(#p85081edcf8)\" d=\"M 1120.253763 558.143943 \nL 1120.253763 14.543943 \n\" style=\"fill:none;stroke:#ffffff;stroke-linecap:square;stroke-width:1.5;\"/>\n   </g>\n   <g id=\"line2d_77\">\n    <path clip-path=\"url(#p85081edcf8)\" d=\"M 1134.707924 558.143943 \nL 1134.707924 14.543943 \n\" style=\"fill:none;stroke:#ffffff;stroke-linecap:square;stroke-width:1.5;\"/>\n   </g>\n   <g id=\"line2d_78\">\n    <path clip-path=\"url(#p85081edcf8)\" d=\"M 1149.162086 558.143943 \nL 1149.162086 14.543943 \n\" style=\"fill:none;stroke:#ffffff;stroke-linecap:square;stroke-width:1.5;\"/>\n   </g>\n   <g id=\"line2d_79\">\n    <path clip-path=\"url(#p85081edcf8)\" d=\"M 1163.616247 558.143943 \nL 1163.616247 14.543943 \n\" style=\"fill:none;stroke:#ffffff;stroke-linecap:square;stroke-width:1.5;\"/>\n   </g>\n   <g id=\"line2d_80\">\n    <path clip-path=\"url(#p85081edcf8)\" d=\"M 1178.070408 558.143943 \nL 1178.070408 14.543943 \n\" style=\"fill:none;stroke:#ffffff;stroke-linecap:square;stroke-width:1.5;\"/>\n   </g>\n   <g id=\"line2d_81\">\n    <path clip-path=\"url(#p85081edcf8)\" d=\"M 1192.524569 558.143943 \nL 1192.524569 14.543943 \n\" style=\"fill:none;stroke:#ffffff;stroke-linecap:square;stroke-width:1.5;\"/>\n   </g>\n   <g id=\"line2d_82\">\n    <path clip-path=\"url(#p85081edcf8)\" d=\"M 1206.97873 558.143943 \nL 1206.97873 14.543943 \n\" style=\"fill:none;stroke:#ffffff;stroke-linecap:square;stroke-width:1.5;\"/>\n   </g>\n   <g id=\"line2d_83\">\n    <path clip-path=\"url(#p85081edcf8)\" d=\"M 1221.432891 558.143943 \nL 1221.432891 14.543943 \n\" style=\"fill:none;stroke:#ffffff;stroke-linecap:square;stroke-width:1.5;\"/>\n   </g>\n   <g id=\"line2d_84\">\n    <path clip-path=\"url(#p85081edcf8)\" d=\"M 1235.887052 558.143943 \nL 1235.887052 14.543943 \n\" style=\"fill:none;stroke:#ffffff;stroke-linecap:square;stroke-width:1.5;\"/>\n   </g>\n   <g id=\"line2d_85\">\n    <path clip-path=\"url(#p85081edcf8)\" d=\"M 1250.341214 558.143943 \nL 1250.341214 14.543943 \n\" style=\"fill:none;stroke:#ffffff;stroke-linecap:square;stroke-width:1.5;\"/>\n   </g>\n   <g id=\"line2d_86\">\n    <path clip-path=\"url(#p85081edcf8)\" d=\"M 1264.795375 558.143943 \nL 1264.795375 14.543943 \n\" style=\"fill:none;stroke:#ffffff;stroke-linecap:square;stroke-width:1.5;\"/>\n   </g>\n   <g id=\"line2d_87\">\n    <path clip-path=\"url(#p85081edcf8)\" d=\"M 1279.249536 558.143943 \nL 1279.249536 14.543943 \n\" style=\"fill:none;stroke:#ffffff;stroke-linecap:square;stroke-width:1.5;\"/>\n   </g>\n   <g id=\"line2d_88\">\n    <path clip-path=\"url(#p85081edcf8)\" d=\"M 1293.703697 558.143943 \nL 1293.703697 14.543943 \n\" style=\"fill:none;stroke:#ffffff;stroke-linecap:square;stroke-width:1.5;\"/>\n   </g>\n   <g id=\"line2d_89\">\n    <path clip-path=\"url(#p85081edcf8)\" d=\"M 1308.157858 558.143943 \nL 1308.157858 14.543943 \n\" style=\"fill:none;stroke:#ffffff;stroke-linecap:square;stroke-width:1.5;\"/>\n   </g>\n  </g>\n </g>\n <defs>\n  <clipPath id=\"pac35592e52\">\n   <rect height=\"543.6\" width=\"83.834135\" x=\"1376.265865\" y=\"14.543943\"/>\n  </clipPath>\n  <clipPath id=\"p85081edcf8\">\n   <rect height=\"543.6\" width=\"1257.512019\" x=\"65.1\" y=\"14.543943\"/>\n  </clipPath>\n </defs>\n</svg>\n",
      "image/png": "[encoded data removed]"
     },
     "metadata": {}
    }
   ],
   "source": [
    "msno.matrix(sect)"
   ]
  },
  {
   "cell_type": "markdown",
   "metadata": {},
   "source": [
    "The features related to detached houses have around 90% of missing values. Therefore, we will drop the following features:\n",
    "* *Rent_Number_Detached*\n",
    "* *Rent_Price_Meter_Detached*\n",
    "* *Rent_Price_Total_Detached*\n",
    "* *Rent_Area_Detached*\n",
    "\n",
    "For ther rest, the number of missing values is not significant. We will use an imputer in later stages to fill those values."
   ]
  },
  {
   "cell_type": "code",
   "execution_count": 59,
   "metadata": {},
   "outputs": [],
   "source": [
    "sect.drop(\n",
    "    [\n",
    "        \"Rent_Number_Detached\",\n",
    "        \"Rent_Price_Meter_Detached\",\n",
    "        \"Rent_Price_Total_Detached\",\n",
    "        \"Rent_Area_Detached\",\n",
    "    ],\n",
    "    axis=1,\n",
    "    inplace=True,\n",
    ")"
   ]
  },
  {
   "cell_type": "markdown",
   "metadata": {},
   "source": [
    "# Save Data"
   ]
  },
  {
   "cell_type": "code",
   "execution_count": 21,
   "metadata": {},
   "outputs": [],
   "source": [
    "if SAVE_DATA:\n",
    "    sections_json_pathname = DIR_DATA / \"interim/sections_geo.json\" \n",
    "    if not sections_json_pathname.is_file():\n",
    "        sect[[\"geometry\"]].to_file(\n",
    "            sections_json_pathname, driver=\"GeoJSON\"\n",
    "        )\n",
    "    sect.drop([\"geometry\"], axis=1, inplace=True)\n",
    "    sect.to_csv(\n",
    "        DIR_DATA / \"interim/sections_{}_{:02d}.csv\".format(int(str(YEAR)[2:4]), MONTH)\n",
    "    )"
   ]
  },
  {
   "cell_type": "markdown",
   "metadata": {},
   "source": [
    "# Watermark"
   ]
  },
  {
   "cell_type": "code",
   "execution_count": 60,
   "metadata": {},
   "outputs": [],
   "source": [
    "%load_ext watermark"
   ]
  },
  {
   "cell_type": "code",
   "execution_count": 61,
   "metadata": {},
   "outputs": [
    {
     "output_type": "stream",
     "name": "stdout",
     "text": [
      "Author: Ernesto Gregori\n\nLast updated: 2021-05-17 19:36:12\n\nPython implementation: CPython\nPython version       : 3.9.2\nIPython version      : 7.21.0\n\nCompiler    : GCC 9.3.0\nOS          : Linux\nRelease     : 4.4.0-200-generic\nMachine     : x86_64\nProcessor   : x86_64\nCPU cores   : 40\nArchitecture: 64bit\n\nGit hash: f9913567e16fbc7658a9c37ccf4fcd924bec17f7\n\nGit branch: egregorimar/gwr\n\nWatermark: 2.2.0\n\n"
     ]
    }
   ],
   "source": [
    "# NBVAL_IGNORE_OUTPUT\n",
    "%watermark -a \"Ernesto Gregori\" -u -d -t -v -m -g -wb"
   ]
  },
  {
   "cell_type": "code",
   "execution_count": 62,
   "metadata": {},
   "outputs": [
    {
     "output_type": "stream",
     "name": "stdout",
     "text": [
      "matplotlib: 3.4.1\nsys       : 3.9.2 | packaged by conda-forge | (default, Feb 21 2021, 05:02:46) \n[GCC 9.3.0]\njson      : 2.0.9\nnumpy     : 1.20.1\nlxml      : 4.6.3\ngeopandas : 0.9.0\npandas    : 1.2.3\nmissingno : 0.4.2\n\n"
     ]
    }
   ],
   "source": [
    "# NBVAL_IGNORE_OUTPUT\n",
    "%watermark -iv"
   ]
  }
 ],
 "metadata": {
  "colab": {
   "collapsed_sections": [],
   "name": "00acquisition.ipynb",
   "provenance": [],
   "toc_visible": true
  },
  "kernelspec": {
   "name": "python392jvsc74a57bd075551eae25902e7c9422ff6618bbfeee8e1d3f76c165a44249dd0a63c4caa495",
   "display_name": "Python 3.9.2 64-bit (conda)"
  },
  "language_info": {
   "codemirror_mode": {
    "name": "ipython",
    "version": 3
   },
   "file_extension": ".py",
   "mimetype": "text/x-python",
   "name": "python",
   "nbconvert_exporter": "python",
   "pygments_lexer": "ipython3",
   "version": "3.9.2"
  },
  "metadata": {
   "interpreter": {
    "hash": "75551eae25902e7c9422ff6618bbfeee8e1d3f76c165a44249dd0a63c4caa495"
   }
  }
 },
 "nbformat": 4,
 "nbformat_minor": 5
}
